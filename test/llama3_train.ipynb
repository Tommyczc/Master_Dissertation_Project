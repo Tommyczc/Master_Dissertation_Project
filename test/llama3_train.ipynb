{
 "cells": [
  {
   "metadata": {},
   "cell_type": "markdown",
   "source": "# This is only for mac (ARM64)",
   "id": "c24e5813794da3ae"
  },
  {
   "metadata": {},
   "cell_type": "markdown",
   "source": "## Import llama3-8b",
   "id": "c4401bf39c8c38f7"
  },
  {
   "metadata": {
    "ExecuteTime": {
     "end_time": "2024-08-16T23:40:09.173522Z",
     "start_time": "2024-08-16T23:40:02.063588Z"
    }
   },
   "cell_type": "code",
   "source": [
    "from mlx_lm import load, generate\n",
    "model, tokenizer = load(\"mlx-community/Meta-Llama-3-8B-Instruct-4bit\")"
   ],
   "id": "fdf1c6dfd92a2b72",
   "outputs": [
    {
     "data": {
      "text/plain": [
       "Fetching 6 files:   0%|          | 0/6 [00:00<?, ?it/s]"
      ],
      "application/vnd.jupyter.widget-view+json": {
       "version_major": 2,
       "version_minor": 0,
       "model_id": "f4ea5ae3393c49348e30d0999d29ba37"
      }
     },
     "metadata": {},
     "output_type": "display_data"
    }
   ],
   "execution_count": 1
  },
  {
   "metadata": {},
   "cell_type": "markdown",
   "source": "## Example",
   "id": "1bf755ad3514db8f"
  },
  {
   "metadata": {
    "ExecuteTime": {
     "end_time": "2024-08-16T23:40:11.462714Z",
     "start_time": "2024-08-16T23:40:09.176154Z"
    }
   },
   "cell_type": "code",
   "source": [
    "SYSTEM_MSG = (\"You are an assistant that detects entities and their relationships in questions, for example:\"\n",
    "              \"user question: where is china?\"\n",
    "              \"your answer: [(china)(located in)(?)]\"\n",
    "              \"user question: where is USA?\"\n",
    "              \"Your answer: [(USA)(located in)(?)]\"\n",
    "              \"user question: where is UK's capital?\"\n",
    "              \"your answer: [(UK's capital)(located in)(?)]\")\n",
    "\n",
    "def generate_entity_response(promptStr, maxTokens=100):\n",
    "    messages = [\n",
    "        {\"role\": \"system\", \"content\": SYSTEM_MSG},\n",
    "        {\"role\": \"user\", \"content\": promptStr},\n",
    "    ]\n",
    "    # print(messages)\n",
    "    # 将消息应用于聊天模板并生成输入ID\n",
    "    input_ids = tokenizer.apply_chat_template(messages, add_generation_prompt=True)\n",
    "    prompt = tokenizer.decode(input_ids)\n",
    "\n",
    "    # 生成响应\n",
    "    response = generate(model, tokenizer, prompt=prompt, max_tokens=maxTokens)\n",
    "\n",
    "    return response\n",
    "\n",
    "\n",
    "# example\n",
    "user_question = \"Where is China?\"\n",
    "response = generate_entity_response(user_question)\n",
    "print(response)\n",
    "\n",
    "# other question\n",
    "user_question = \"where is japan's capital\"\n",
    "response = generate_entity_response(user_question)\n",
    "print(response)"
   ],
   "id": "1a85a172722400af",
   "outputs": [
    {
     "name": "stdout",
     "output_type": "stream",
     "text": [
      "[(China)(located in)(?)]\n",
      "[(Japan's capital)(located in)(?)]\n"
     ]
    }
   ],
   "execution_count": 2
  },
  {
   "metadata": {},
   "cell_type": "markdown",
   "source": [
    "## Train a llama which can learn rdf\n",
    "#### first, initial database and get all rdf data"
   ],
   "id": "2c6907eda6c21390"
  },
  {
   "metadata": {
    "ExecuteTime": {
     "end_time": "2024-08-16T23:40:11.752304Z",
     "start_time": "2024-08-16T23:40:11.463749Z"
    }
   },
   "cell_type": "code",
   "source": [
    "from jena.fuseki_client import JenaClient\n",
    "from mongoDB.mongoDB_client import init_db, MongoDBInterface\n",
    "db, fs = init_db(\n",
    "    \"mongodb://localhost:27017\")\n",
    "db_interface = MongoDBInterface(db, fs)\n",
    "\n",
    "jena_client = JenaClient(jena_url='http://127.0.0.1:3030', dataset='test')  "
   ],
   "id": "83330e9b8db384fe",
   "outputs": [],
   "execution_count": 3
  },
  {
   "metadata": {
    "ExecuteTime": {
     "end_time": "2024-08-16T23:40:15.212110Z",
     "start_time": "2024-08-16T23:40:11.753479Z"
    }
   },
   "cell_type": "code",
   "source": [
    "import json\n",
    "code,text=jena_client.execute_sparql_query_global(\"SELECT * WHERE { ?sub ?pred ?obj .}\")\n",
    "# print(\"text: \",text)\n",
    "\n",
    "def rdf_to_natural_language(rdf_data):\n",
    "    descriptions = []\n",
    "    for triple in rdf_data:\n",
    "        subj = triple['sub']['value'].split('/')[-1]\n",
    "        pred = triple['pred']['value'].split('/')[-1].replace('_', ' ')\n",
    "        obj = triple['obj']['value'].split('/')[-1]\n",
    "        description = f\"{subj} {pred} {obj}.\"\n",
    "        descriptions.append(description)\n",
    "    return \"\\n\".join(descriptions)\n",
    "\n",
    "rdf_to_nl=\"\"\n",
    "if code == 200:\n",
    "    # print(text)\n",
    "    json_object=json.loads(text)\n",
    "    result=json_object['results']['bindings']\n",
    "    rdf_to_nl=rdf_to_natural_language(result)\n",
    "    print(rdf_to_nl)\n",
    "    "
   ],
   "id": "b3fa88087207cee",
   "outputs": [
    {
     "name": "stderr",
     "output_type": "stream",
     "text": [
      "IOPub data rate exceeded.\n",
      "The Jupyter server will temporarily stop sending output\n",
      "to the client in order to avoid crashing it.\n",
      "To change this limit, set the config variable\n",
      "`--ServerApp.iopub_data_rate_limit`.\n",
      "\n",
      "Current values:\n",
      "ServerApp.iopub_data_rate_limit=1000000.0 (bytes/sec)\n",
      "ServerApp.rate_limit_window=3.0 (secs)\n",
      "\n"
     ]
    }
   ],
   "execution_count": 4
  },
  {
   "metadata": {
    "jupyter": {
     "is_executing": true
    },
    "ExecuteTime": {
     "start_time": "2024-08-16T23:40:15.214835Z"
    }
   },
   "cell_type": "code",
   "source": [
    "model, tokenizer = load(\"mlx-community/Meta-Llama-3-8B-Instruct-4bit\")\n",
    "\n",
    "# 准备初始上下文\n",
    "SYSTEM_MSG = (f\"You are a knowledgeable assistant who answers questions based on the provided data, \"\n",
    "              f\"If the user's question is out of scope for this dataset, you should only answer: Sorry, this question is out of scope.\"\n",
    "              f\"\\n\\nHere is the data:\\n{rdf_to_nl}\")\n",
    "\n",
    "\n",
    "# 生成回答\n",
    "def generate_response(question, initial_context, max_tokens=100):\n",
    "    messages = [\n",
    "        {\"role\": \"system\", \"content\": initial_context},\n",
    "        {\"role\": \"user\", \"content\": question},\n",
    "    ]\n",
    "\n",
    "    # 将消息应用于聊天模板并生成输入ID\n",
    "    input_ids = tokenizer.apply_chat_template(messages, add_generation_prompt=True)\n",
    "    prompt = tokenizer.decode(input_ids)\n",
    "\n",
    "    # 生成响应\n",
    "    response = generate(model, tokenizer, prompt=prompt, max_tokens=max_tokens)\n",
    "    \n",
    "\n",
    "    return response\n",
    "\n",
    "# example\n",
    "user_question = \"Where is country1?\"\n",
    "response = generate_response(user_question, SYSTEM_MSG)\n",
    "print(f\"question: {user_question}\\nLlama response: {response}\\n\")\n",
    "\n",
    "# question which out of scope\n",
    "user_question = \"Where is USA\"\n",
    "response = generate_response(user_question, SYSTEM_MSG)\n",
    "print(f\"question: {user_question}\\nLlama response: {response}\")"
   ],
   "id": "3a2860a63670b5fb",
   "outputs": [
    {
     "data": {
      "text/plain": [
       "Fetching 6 files:   0%|          | 0/6 [00:00<?, ?it/s]"
      ],
      "application/vnd.jupyter.widget-view+json": {
       "version_major": 2,
       "version_minor": 0,
       "model_id": "64e4f85b7a89450fb694964d895c3437"
      }
     },
     "metadata": {},
     "output_type": "display_data"
    }
   ],
   "execution_count": null
  },
  {
   "metadata": {
    "jupyter": {
     "is_executing": true
    }
   },
   "cell_type": "code",
   "source": [
    "# 将消息应用于聊天模板并生成输入ID\n",
    "question = \"i want some information of country 1\"\n",
    "messages=[{'role':'user','content':question}]\n",
    "input_ids = tokenizer.apply_chat_template(messages, add_generation_prompt=True)\n",
    "prompt = tokenizer.decode(input_ids)\n",
    "\n",
    "# 生成响应\n",
    "response = generate(model, tokenizer, prompt=prompt, max_tokens=100)\n",
    "print(response)"
   ],
   "id": "cbeaa2c139e4dbb4",
   "outputs": [],
   "execution_count": null
  },
  {
   "metadata": {
    "jupyter": {
     "is_executing": true
    }
   },
   "cell_type": "code",
   "source": [
    "response = generate_response(question, SYSTEM_MSG)\n",
    "print(response)"
   ],
   "id": "1dbaa359c2eba36e",
   "outputs": [],
   "execution_count": null
  },
  {
   "metadata": {},
   "cell_type": "markdown",
   "source": "## version 2",
   "id": "e3caa8ae2b3c1154"
  },
  {
   "metadata": {
    "jupyter": {
     "is_executing": true
    }
   },
   "cell_type": "code",
   "source": [
    "import json\n",
    "from mlx_lm import load, generate\n",
    "\n",
    "# 从 Jena 客户端获取 RDF 数据\n",
    "code, text = jena_client.execute_sparql_query_global(\"SELECT * WHERE { ?sub ?pred ?obj .}\")\n",
    "\n",
    "# 初始化 LLaMA 模型\n",
    "rdf_descriptions=\"\"\n",
    "if code == 200:\n",
    "    json_object = json.loads(text)\n",
    "    result = json_object['results']['bindings']\n",
    "    rdf_descriptions = rdf_to_natural_language(result)\n",
    "\n",
    "    model, tokenizer = load(\"mlx-community/Meta-Llama-3-8B-Instruct-4bit\")\n",
    "\n",
    "# 准备初始上下文\n",
    "def generate_system_message_chunk(chunk):\n",
    "    return (f\"You are a knowledgeable assistant who answers questions based on the provided data. \"\n",
    "            f\"If the user's question is out of scope for this dataset, you should only answer: Sorry, this question is out of scope.\"\n",
    "            f\"\\n\\nHere is the data:\\n{chunk}\")\n",
    "\n",
    "# 分块生成响应\n",
    "def generate_response_in_chunks(question, rdf_data, chunk_size=50, max_tokens=100):\n",
    "    responses = []\n",
    "    \n",
    "    # 按块处理 RDF 数据\n",
    "    for i in range(0, len(rdf_data), chunk_size):\n",
    "        chunk = \"\\n\".join(rdf_data[i:i + chunk_size])\n",
    "        system_message = generate_system_message_chunk(chunk)\n",
    "\n",
    "        messages = [\n",
    "            {\"role\": \"system\", \"content\": system_message},\n",
    "            {\"role\": \"user\", \"content\": question},\n",
    "        ]\n",
    "\n",
    "        input_ids = tokenizer.apply_chat_template(messages, add_generation_prompt=True)\n",
    "        prompt = tokenizer.decode(input_ids)\n",
    "\n",
    "        # 生成响应\n",
    "        response = generate(model, tokenizer, prompt=prompt, max_tokens=max_tokens)\n",
    "        responses.append(response['generated_text'])\n",
    "    \n",
    "    # 合并所有块的响应\n",
    "    final_response = \" \".join(responses)\n",
    "    return final_response\n",
    "\n",
    "# 示例问题\n",
    "user_question = \"Where is country1?\"\n",
    "response = generate_response_in_chunks(user_question, rdf_descriptions)\n",
    "print(f\"Question: {user_question}\\nLlama response: {response}\\n\")\n",
    "\n",
    "# 处理范围外的问题\n",
    "user_question = \"Where is USA?\"\n",
    "response = generate_response_in_chunks(user_question, rdf_descriptions)\n",
    "print(f\"Question: {user_question}\\nLlama response: {response}\")"
   ],
   "id": "1902572a65ce3f28",
   "outputs": [],
   "execution_count": null
  },
  {
   "metadata": {
    "jupyter": {
     "is_executing": true
    }
   },
   "cell_type": "code",
   "source": "",
   "id": "2ab1a0b680c01b71",
   "outputs": [],
   "execution_count": null
  }
 ],
 "metadata": {
  "kernelspec": {
   "display_name": "Python 3",
   "language": "python",
   "name": "python3"
  },
  "language_info": {
   "codemirror_mode": {
    "name": "ipython",
    "version": 2
   },
   "file_extension": ".py",
   "mimetype": "text/x-python",
   "name": "python",
   "nbconvert_exporter": "python",
   "pygments_lexer": "ipython2",
   "version": "2.7.6"
  }
 },
 "nbformat": 4,
 "nbformat_minor": 5
}
