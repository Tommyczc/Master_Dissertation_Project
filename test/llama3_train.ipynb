{
 "cells": [
  {
   "metadata": {},
   "cell_type": "markdown",
   "source": "# This is only for mac (ARM64)",
   "id": "c24e5813794da3ae"
  },
  {
   "metadata": {},
   "cell_type": "markdown",
   "source": "## Import llama3-8b",
   "id": "c4401bf39c8c38f7"
  },
  {
   "metadata": {
    "ExecuteTime": {
     "end_time": "2024-08-01T11:07:30.889365Z",
     "start_time": "2024-08-01T11:07:25.324585Z"
    }
   },
   "cell_type": "code",
   "source": [
    "from mlx_lm import load, generate\n",
    "model, tokenizer = load(\"mlx-community/Meta-Llama-3-8B-Instruct-4bit\")"
   ],
   "id": "fdf1c6dfd92a2b72",
   "outputs": [
    {
     "data": {
      "text/plain": [
       "Fetching 6 files:   0%|          | 0/6 [00:00<?, ?it/s]"
      ],
      "application/vnd.jupyter.widget-view+json": {
       "version_major": 2,
       "version_minor": 0,
       "model_id": "9e17d3f1096b4e78a48504abbfb8757b"
      }
     },
     "metadata": {},
     "output_type": "display_data"
    }
   ],
   "execution_count": 1
  },
  {
   "metadata": {},
   "cell_type": "markdown",
   "source": "## Example",
   "id": "1bf755ad3514db8f"
  },
  {
   "metadata": {
    "ExecuteTime": {
     "end_time": "2024-08-01T11:07:32.766742Z",
     "start_time": "2024-08-01T11:07:30.890821Z"
    }
   },
   "cell_type": "code",
   "source": [
    "SYSTEM_MSG = (\"You are an assistant that detects entities and their relationships in questions, for example:\"\n",
    "              \"user question: where is china?\"\n",
    "              \"your answer: [(china)(located in)(?)]\"\n",
    "              \"user question: where is USA?\"\n",
    "              \"Your answer: [(USA)(located in)(?)]\"\n",
    "              \"user question: where is UK's capital?\"\n",
    "              \"your answer: [(UK's capital)(located in)(?)]\")\n",
    "\n",
    "def generate_entity_response(promptStr, maxTokens=100):\n",
    "    messages = [\n",
    "        {\"role\": \"system\", \"content\": SYSTEM_MSG},\n",
    "        {\"role\": \"user\", \"content\": promptStr},\n",
    "    ]\n",
    "    # print(messages)\n",
    "    # 将消息应用于聊天模板并生成输入ID\n",
    "    input_ids = tokenizer.apply_chat_template(messages, add_generation_prompt=True)\n",
    "    prompt = tokenizer.decode(input_ids)\n",
    "\n",
    "    # 生成响应\n",
    "    response = generate(model, tokenizer, prompt=prompt, max_tokens=maxTokens)\n",
    "\n",
    "    return response\n",
    "\n",
    "\n",
    "# example\n",
    "user_question = \"Where is China?\"\n",
    "response = generate_entity_response(user_question)\n",
    "print(response)\n",
    "\n",
    "# other question\n",
    "user_question = \"where is japan's capital\"\n",
    "response = generate_entity_response(user_question)\n",
    "print(response)"
   ],
   "id": "1a85a172722400af",
   "outputs": [
    {
     "name": "stdout",
     "output_type": "stream",
     "text": [
      "[(China)(located in)(?)]\n",
      "[(Japan's capital)(located in)(?)]\n"
     ]
    }
   ],
   "execution_count": 2
  },
  {
   "metadata": {},
   "cell_type": "markdown",
   "source": [
    "## Train a llama which can learn rdf\n",
    "#### first, initial database and get all rdf data"
   ],
   "id": "2c6907eda6c21390"
  },
  {
   "metadata": {
    "ExecuteTime": {
     "end_time": "2024-08-01T11:07:32.996440Z",
     "start_time": "2024-08-01T11:07:32.767622Z"
    }
   },
   "cell_type": "code",
   "source": [
    "from jena.fuseki_client import JenaClient\n",
    "from mongoDB.mongoDB_client import init_db, MongoDBInterface\n",
    "db, fs = init_db(\n",
    "    \"mongodb://localhost:27017\")\n",
    "db_interface = MongoDBInterface(db, fs)\n",
    "\n",
    "jena_client = JenaClient(jena_url='http://127.0.0.1:3030', dataset='test')  "
   ],
   "id": "83330e9b8db384fe",
   "outputs": [],
   "execution_count": 3
  },
  {
   "metadata": {
    "ExecuteTime": {
     "end_time": "2024-08-01T11:09:43.104464Z",
     "start_time": "2024-08-01T11:09:43.056870Z"
    }
   },
   "cell_type": "code",
   "source": [
    "import json\n",
    "code,text=jena_client.execute_sparql_query_global(\"SELECT * WHERE { ?sub ?pred ?obj .}\")\n",
    "# print(\"text: \",text)\n",
    "\n",
    "def rdf_to_natural_language(rdf_data):\n",
    "    descriptions = []\n",
    "    for triple in rdf_data:\n",
    "        subj = triple['sub']['value'].split('/')[-1]\n",
    "        pred = triple['pred']['value'].split('/')[-1].replace('_', ' ')\n",
    "        obj = triple['obj']['value'].split('/')[-1]\n",
    "        description = f\"{subj} {pred} {obj}.\"\n",
    "        descriptions.append(description)\n",
    "    return \"\\n\".join(descriptions)\n",
    "\n",
    "rdf_to_nl=\"\"\n",
    "if code == 200:\n",
    "    # print(text)\n",
    "    json_object=json.loads(text)\n",
    "    result=json_object['results']['bindings']\n",
    "    rdf_to_nl=rdf_to_natural_language(result)\n",
    "    print(rdf_to_nl)\n",
    "    "
   ],
   "id": "b3fa88087207cee",
   "outputs": [
    {
     "name": "stdout",
     "output_type": "stream",
     "text": [
      "country1 has border with country2.\n",
      "country1 located in part1.\n",
      "country2 located in part1.\n",
      "country4 located in part2.\n",
      "country3 has border with country4.\n",
      "country3 located in part2.\n"
     ]
    }
   ],
   "execution_count": 9
  },
  {
   "metadata": {
    "ExecuteTime": {
     "end_time": "2024-08-01T11:07:45.155019Z",
     "start_time": "2024-08-01T11:07:33.057360Z"
    }
   },
   "cell_type": "code",
   "source": [
    "model, tokenizer = load(\"mlx-community/Meta-Llama-3-8B-Instruct-4bit\")\n",
    "\n",
    "# 准备初始上下文\n",
    "SYSTEM_MSG = (f\"You are a knowledgeable assistant who answers questions based on the provided data, \"\n",
    "              f\"If the user's question is out of scope for this dataset, you should only answer: Sorry, this question is out of scope.\"\n",
    "              f\"\\n\\nHere is the data:\\n{rdf_to_nl}\")\n",
    "\n",
    "\n",
    "# 生成回答\n",
    "def generate_response(question, initial_context, max_tokens=100):\n",
    "    messages = [\n",
    "        {\"role\": \"system\", \"content\": initial_context},\n",
    "        {\"role\": \"user\", \"content\": question},\n",
    "    ]\n",
    "\n",
    "    # 将消息应用于聊天模板并生成输入ID\n",
    "    input_ids = tokenizer.apply_chat_template(messages, add_generation_prompt=True)\n",
    "    prompt = tokenizer.decode(input_ids)\n",
    "\n",
    "    # 生成响应\n",
    "    response = generate(model, tokenizer, prompt=prompt, max_tokens=max_tokens)\n",
    "    \n",
    "\n",
    "    return response\n",
    "\n",
    "# example\n",
    "user_question = \"Where is country1?\"\n",
    "response = generate_response(user_question, SYSTEM_MSG)\n",
    "print(f\"question: {user_question}\\nLlama response: {response}\\n\")\n",
    "\n",
    "# question which out of scope\n",
    "user_question = \"Where is USA\"\n",
    "response = generate_response(user_question, SYSTEM_MSG)\n",
    "print(f\"question: {user_question}\\nLlama response: {response}\")"
   ],
   "id": "3a2860a63670b5fb",
   "outputs": [
    {
     "data": {
      "text/plain": [
       "Fetching 6 files:   0%|          | 0/6 [00:00<?, ?it/s]"
      ],
      "application/vnd.jupyter.widget-view+json": {
       "version_major": 2,
       "version_minor": 0,
       "model_id": "00d8d15f15684d5fa1f2f03c13535f70"
      }
     },
     "metadata": {},
     "output_type": "display_data"
    },
    {
     "name": "stdout",
     "output_type": "stream",
     "text": [
      "question: Where is country1?\n",
      "Llama response: Country1 is located in part1.\n",
      "\n",
      "question: Where is USA\n",
      "Llama response: Sorry, this question is out of scope.\n"
     ]
    }
   ],
   "execution_count": 5
  },
  {
   "metadata": {
    "ExecuteTime": {
     "end_time": "2024-08-01T11:07:47.958247Z",
     "start_time": "2024-08-01T11:07:45.156262Z"
    }
   },
   "cell_type": "code",
   "source": [
    "# 将消息应用于聊天模板并生成输入ID\n",
    "question = \"i want some information of country 1\"\n",
    "messages=[{'role':'user','content':question}]\n",
    "input_ids = tokenizer.apply_chat_template(messages, add_generation_prompt=True)\n",
    "prompt = tokenizer.decode(input_ids)\n",
    "\n",
    "# 生成响应\n",
    "response = generate(model, tokenizer, prompt=prompt, max_tokens=100)\n",
    "print(response)"
   ],
   "id": "cbeaa2c139e4dbb4",
   "outputs": [
    {
     "name": "stdout",
     "output_type": "stream",
     "text": [
      "I'd be happy to provide you with information about a country. Can you please specify which country you are interested in? If you don't have a specific country in mind, I can suggest some popular countries that people often ask about.\n",
      "\n",
      "Here are a few options:\n",
      "\n",
      "* United States\n",
      "* China\n",
      "* Japan\n",
      "* India\n",
      "* United Kingdom\n",
      "* France\n",
      "* Germany\n",
      "* Italy\n",
      "* Australia\n",
      "* Brazil\n",
      "\n",
      "Let me know if any of these countries interest you, or if you have\n"
     ]
    }
   ],
   "execution_count": 6
  },
  {
   "metadata": {
    "ExecuteTime": {
     "end_time": "2024-08-01T11:07:48.986821Z",
     "start_time": "2024-08-01T11:07:47.958900Z"
    }
   },
   "cell_type": "code",
   "source": [
    "response = generate_response(question, SYSTEM_MSG)\n",
    "print(response)"
   ],
   "id": "1dbaa359c2eba36e",
   "outputs": [
    {
     "name": "stdout",
     "output_type": "stream",
     "text": [
      "According to the data, country1 has a border with country2 and is located in part1.\n"
     ]
    }
   ],
   "execution_count": 7
  },
  {
   "metadata": {
    "ExecuteTime": {
     "end_time": "2024-08-01T11:07:48.989594Z",
     "start_time": "2024-08-01T11:07:48.987570Z"
    }
   },
   "cell_type": "code",
   "source": "",
   "id": "1902572a65ce3f28",
   "outputs": [],
   "execution_count": 7
  }
 ],
 "metadata": {
  "kernelspec": {
   "display_name": "Python 3",
   "language": "python",
   "name": "python3"
  },
  "language_info": {
   "codemirror_mode": {
    "name": "ipython",
    "version": 2
   },
   "file_extension": ".py",
   "mimetype": "text/x-python",
   "name": "python",
   "nbconvert_exporter": "python",
   "pygments_lexer": "ipython2",
   "version": "2.7.6"
  }
 },
 "nbformat": 4,
 "nbformat_minor": 5
}
