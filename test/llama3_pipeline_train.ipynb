{
 "cells": [
  {
   "metadata": {},
   "cell_type": "markdown",
   "source": "# This is only for mac (ARM64)",
   "id": "c24e5813794da3ae"
  },
  {
   "metadata": {},
   "cell_type": "markdown",
   "source": "## Import llama3-8b",
   "id": "c4401bf39c8c38f7"
  },
  {
   "metadata": {
    "ExecuteTime": {
     "end_time": "2024-09-08T17:11:53.992449Z",
     "start_time": "2024-09-08T17:11:47.311003Z"
    }
   },
   "cell_type": "code",
   "source": [
    "from mlx_lm import load, generate\n",
    "model, tokenizer = load(\"mlx-community/Meta-Llama-3-8B-Instruct-4bit\")"
   ],
   "id": "fdf1c6dfd92a2b72",
   "outputs": [
    {
     "data": {
      "text/plain": [
       "Fetching 6 files:   0%|          | 0/6 [00:00<?, ?it/s]"
      ],
      "application/vnd.jupyter.widget-view+json": {
       "version_major": 2,
       "version_minor": 0,
       "model_id": "38d15bf4213d401aaf4f88c66c195f79"
      }
     },
     "metadata": {},
     "output_type": "display_data"
    }
   ],
   "execution_count": 1
  },
  {
   "metadata": {},
   "cell_type": "markdown",
   "source": "## Example",
   "id": "1bf755ad3514db8f"
  },
  {
   "metadata": {
    "ExecuteTime": {
     "end_time": "2024-09-08T17:11:57.116283Z",
     "start_time": "2024-09-08T17:11:53.993602Z"
    }
   },
   "cell_type": "code",
   "source": [
    "SYSTEM_MSG = (\"You are an assistant that detects [(subject)(predicate)(object)] and their relationships in user's questions, for example:\"\n",
    "              \"user question: where is china?\"\n",
    "              \"your answer: [(china)(located in)(?)]\"\n",
    "              \"user question: where is USA?\"\n",
    "              \"Your answer: [(USA)(located in)(?)]\"\n",
    "              \"user question: where is UK's capital?\"\n",
    "              \"your answer: [(UK's capital)(located in)(?)]\"\n",
    "              \"user question: how is china?\"\n",
    "              \"your answer: [(china)(?)(?)]\"\n",
    "              \"user question: what kind of data do you have?\"\n",
    "              \"your answer: [(?)(?)(?)]\"\n",
    "              \"Also, you have to complete the sentence must only base on given information, for example:\"\n",
    "              \"user question: [(china)(located in)(Asia)]\"\n",
    "              \"your answer: China is located in Asia.\"\n",
    "              \"user question: [(?)(?)(?)]\"\n",
    "              \"your answer: cannot find related data in database.\")\n",
    "\n",
    "def generate_entity_response(promptStr, maxTokens=150):\n",
    "    messages = [\n",
    "        {\"role\": \"system\", \"content\": SYSTEM_MSG},\n",
    "        {\"role\": \"user\", \"content\": promptStr},\n",
    "    ]\n",
    "    # print(messages)\n",
    "    input_ids = tokenizer.apply_chat_template(messages, add_generation_prompt=True)\n",
    "    prompt = tokenizer.decode(input_ids)\n",
    "\n",
    "    # generate response\n",
    "    response = generate(model, tokenizer, prompt=prompt, max_tokens=maxTokens)\n",
    "\n",
    "    return response\n",
    "\n",
    "\n",
    "# example\n",
    "user_question = \"how is USA?\"\n",
    "response = generate_entity_response(user_question)\n",
    "print(response)\n",
    "\n",
    "# other question\n",
    "user_question = \"where is japan's capital\"\n",
    "response = generate_entity_response(user_question)\n",
    "print(response)\n",
    "\n",
    "user_question = \"[(I)(am)(tommy)]\"\n",
    "response = generate_entity_response(user_question)\n",
    "print(response)"
   ],
   "id": "1a85a172722400af",
   "outputs": [
    {
     "name": "stdout",
     "output_type": "stream",
     "text": [
      "[(USA)(?)(?)]\n",
      "[(japan's capital)(located in)(?)]\n",
      "I am Tommy.\n"
     ]
    }
   ],
   "execution_count": 2
  },
  {
   "metadata": {},
   "cell_type": "markdown",
   "source": [
    "## Train a llama which can learn rdf (version 2)\n",
    "#### first, initial database and get all rdf data"
   ],
   "id": "2c6907eda6c21390"
  },
  {
   "metadata": {
    "ExecuteTime": {
     "end_time": "2024-09-08T17:11:57.365264Z",
     "start_time": "2024-09-08T17:11:57.118030Z"
    }
   },
   "cell_type": "code",
   "source": [
    "from jena.fuseki_client import JenaClient\n",
    "from mongoDB.mongoDB_client import init_db, MongoDBInterface\n",
    "db, fs = init_db(\n",
    "    \"mongodb://localhost:27017\")\n",
    "db_interface = MongoDBInterface(db, fs)\n",
    "\n",
    "jena_client = JenaClient(jena_url='http://127.0.0.1:3030', dataset='test')  "
   ],
   "id": "83330e9b8db384fe",
   "outputs": [],
   "execution_count": 3
  },
  {
   "metadata": {
    "ExecuteTime": {
     "end_time": "2024-09-08T17:11:57.368301Z",
     "start_time": "2024-09-08T17:11:57.366489Z"
    }
   },
   "cell_type": "code",
   "source": [
    "# import json\n",
    "# code,text=jena_client.execute_sparql_query_global(\"SELECT * WHERE { ?sub ?pred ?obj .}\")\n",
    "# # print(\"text: \",text)\n",
    "# \n",
    "# def rdf_to_natural_language(rdf_data):\n",
    "#     descriptions = []\n",
    "#     for triple in rdf_data:\n",
    "#         subj = triple['sub']['value'].split('/')[-1]\n",
    "#         pred = triple['pred']['value'].split('/')[-1].replace('_', ' ')\n",
    "#         obj = triple['obj']['value'].split('/')[-1]\n",
    "#         description = f\"{subj} {pred} {obj}.\"\n",
    "#         descriptions.append(description)\n",
    "#     return \"\\n\".join(descriptions)\n",
    "# \n",
    "# rdf_to_nl=\"\"\n",
    "# if code == 200:\n",
    "#     # print(text)\n",
    "#     json_object=json.loads(text)\n",
    "#     result=json_object['results']['bindings']\n",
    "#     rdf_to_nl=rdf_to_natural_language(result)\n",
    "#     print(rdf_to_nl)\n",
    "#     "
   ],
   "id": "b3fa88087207cee",
   "outputs": [],
   "execution_count": 4
  },
  {
   "metadata": {
    "ExecuteTime": {
     "end_time": "2024-09-08T17:11:57.581951Z",
     "start_time": "2024-09-08T17:11:57.369021Z"
    }
   },
   "cell_type": "code",
   "source": [
    "import re\n",
    "import json\n",
    "def kgqa(entity_string):\n",
    "    matches = re.findall(r'\\((.*?)\\)', entity_string)\n",
    "    if len(matches) == 3:\n",
    "        matches = [item.replace('?', '') for item in matches]\n",
    "        filter_query =''\n",
    "        if matches[0]!='':\n",
    "            filter_query+=f'REGEX(STR(?subject), \"{matches[0]}\", \"i\")'\n",
    "        if matches[1]!='':\n",
    "            filter_query+=f'|| REGEX(STR(?object), \"{matches[1]}\", \"i\")'\n",
    "        if matches[2]!='':\n",
    "            filter_query+=f'|| REGEX(STR(?predicate), \"{matches[2]}\", \"i\")'\n",
    "            \n",
    "        sparql_query = f\"\"\"\n",
    "        SELECT ?subject ?predicate ?object\n",
    "        WHERE {{\n",
    "            graph  ?g{{\n",
    "                ?subject ?predicate ?object .\n",
    "                Filter({filter_query})\n",
    "            }}\n",
    "        }}\n",
    "        LIMIT 10\n",
    "        \"\"\"\n",
    "        \n",
    "        response = jena_client.execute_simple_query(sparql_query)\n",
    "        if response is not None:\n",
    "            data = json.loads(response)\n",
    "            # print(data['results']['bindings'])\n",
    "            if not data['results']['bindings']:\n",
    "                return '[(?)(?)(?)]'\n",
    "            extracted_data=''\n",
    "            # extracted_data = \"\\n\".join([f\"{item['subject']['value']} {item['predicate']['value']} {item['object']['value']}\" for item in data['results']['bindings']])\n",
    "            for item in data['results']['bindings']:\n",
    "                extracted_data+=f\"[({item['subject']['value'].split('/')[-1]})({item['predicate']['value'].split('/')[-1]})({item['object']['value'].split('/')[-1]})]\\n\"\n",
    "                # print(\"data:\",extracted_data)\n",
    "            return extracted_data\n",
    "        else:\n",
    "            return '[(?)(?)(?)]'\n",
    "    else:\n",
    "        return '[(?)(?)(?)]'\n",
    "\n",
    "print(kgqa(\"[(country1)(located in)(?)]\"))"
   ],
   "id": "d44024853b59a340",
   "outputs": [
    {
     "name": "stdout",
     "output_type": "stream",
     "text": [
      "[(country1)(has_border_with)(country2)]\n",
      "[(country1)(located_in)(part1)]\n",
      "\n"
     ]
    }
   ],
   "execution_count": 5
  },
  {
   "metadata": {
    "ExecuteTime": {
     "end_time": "2024-09-08T17:11:59.405681Z",
     "start_time": "2024-09-08T17:11:57.582691Z"
    }
   },
   "cell_type": "code",
   "source": [
    "user_question = \"how is Africa?\"\n",
    "entities = generate_entity_response(user_question)\n",
    "print(entities)\n",
    "answer_entity=kgqa(entities)\n",
    "response=generate_entity_response(answer_entity)\n",
    "print(response)"
   ],
   "id": "cfc429a54fc3a1e2",
   "outputs": [
    {
     "name": "stdout",
     "output_type": "stream",
     "text": [
      "[(Africa)(?)(?)]\n",
      "Cannot find related data in database.\n"
     ]
    }
   ],
   "execution_count": 6
  },
  {
   "metadata": {
    "ExecuteTime": {
     "end_time": "2024-09-08T17:12:02.160975Z",
     "start_time": "2024-09-08T17:11:59.406413Z"
    }
   },
   "cell_type": "code",
   "source": [
    "user_question = \"who are you?\"\n",
    "entities = generate_entity_response(user_question)\n",
    "answer_entity=kgqa(entities)\n",
    "response=generate_entity_response(answer_entity)\n",
    "print(response)"
   ],
   "id": "72d2c3761192b9f1",
   "outputs": [
    {
     "name": "stdout",
     "output_type": "stream",
     "text": [
      "Cannot find related data in database.\n"
     ]
    }
   ],
   "execution_count": 7
  },
  {
   "metadata": {
    "ExecuteTime": {
     "end_time": "2024-09-08T17:12:07.775480Z",
     "start_time": "2024-09-08T17:12:02.161671Z"
    }
   },
   "cell_type": "code",
   "source": [
    "user_question = \"where is country1\"\n",
    "entities = generate_entity_response(user_question)\n",
    "print(entities)\n",
    "answer_entity=kgqa(entities)\n",
    "print(answer_entity)\n",
    "response=generate_entity_response(answer_entity)\n",
    "print(response)"
   ],
   "id": "8f630838cceb3c46",
   "outputs": [
    {
     "name": "stdout",
     "output_type": "stream",
     "text": [
      "[(country1)(located in)(?)]\n",
      "[(country1)(has_border_with)(country2)]\n",
      "[(country1)(located_in)(part1)]\n",
      "\n",
      "I can help you with that!\n",
      "\n",
      "For [(country1)(has_border_with)(country2)]:\n",
      "\n",
      "* [(China)(has_border_with)(North Korea)]\n",
      "* [(China)(has_border_with)(Russia)]\n",
      "* [(China)(has_border_with)(India)]\n",
      "* [(China)(has_border_with)(Vietnam)]\n",
      "* [(China)(has_border_with)(Laos)]\n",
      "* [(China)(has_border_with)(Myanmar)]\n",
      "* [(China)(has_border_with)(Nepal)]\n",
      "* [(China)(has_border_with)(Pakistan)]\n",
      "* [(China)(has_border_with)(Afghanistan)]\n",
      "* [(China)(has_border_with)(Kazakhstan)]\n",
      "* [(China)(has_border_with)(Kyrgyzstan)]\n",
      "* [(China)(has_border_with)(\n"
     ]
    }
   ],
   "execution_count": 8
  },
  {
   "metadata": {
    "ExecuteTime": {
     "end_time": "2024-09-08T17:12:09.914616Z",
     "start_time": "2024-09-08T17:12:07.778186Z"
    }
   },
   "cell_type": "code",
   "source": [
    "user_question = \"which country is located in part 2?\"\n",
    "entities = generate_entity_response(user_question)\n",
    "answer_entity=kgqa(entities)\n",
    "response=generate_entity_response(answer_entity)\n",
    "print(f\"question: {user_question}\\nLlama response: {response}\\n\")"
   ],
   "id": "ea88d7cf97c83c72",
   "outputs": [
    {
     "name": "stdout",
     "output_type": "stream",
     "text": [
      "question: which country is located in part 2?\n",
      "Llama response: Cannot find related data in database.\n",
      "\n"
     ]
    }
   ],
   "execution_count": 9
  },
  {
   "metadata": {},
   "cell_type": "markdown",
   "source": "# Response Time Test",
   "id": "670dcea567207a68"
  },
  {
   "metadata": {
    "ExecuteTime": {
     "end_time": "2024-09-08T17:12:09.919636Z",
     "start_time": "2024-09-08T17:12:09.916770Z"
    }
   },
   "cell_type": "code",
   "source": [
    "def kgqa_local(entity_string,graph):\n",
    "    matches = re.findall(r'\\((.*?)\\)', entity_string)\n",
    "    if len(matches) == 3:\n",
    "        matches = [item.replace('?', '') for item in matches]\n",
    "        filter_query =''\n",
    "        if matches[0]!='':\n",
    "            filter_query+=f'REGEX(STR(?subject), \"{matches[0]}\", \"i\")'\n",
    "        if matches[1]!='':\n",
    "            filter_query+=f'|| REGEX(STR(?object), \"{matches[1]}\", \"i\")'\n",
    "        if matches[2]!='':\n",
    "            filter_query+=f'|| REGEX(STR(?predicate), \"{matches[2]}\", \"i\")'\n",
    "            \n",
    "        sparql_query = f\"\"\"\n",
    "        SELECT ?subject ?predicate ?object\n",
    "        WHERE {{\n",
    "            ?subject ?predicate ?object .\n",
    "            Filter({filter_query})\n",
    "        }}\n",
    "        LIMIT 10\n",
    "        \"\"\"\n",
    "        extracted_data=''\n",
    "        result=graph.query(sparql_query)\n",
    "        if result is not None:\n",
    "            for s, o, p in result:\n",
    "                extracted_data+=f\"[({s.split('/')[-1]})({o.split('/')[-1]})({p.split('/')[-1]})]\\n\"\n",
    "            return extracted_data\n",
    "        return '[(?)(?)(?)]'"
   ],
   "id": "7cf673f7b76ba867",
   "outputs": [],
   "execution_count": 10
  },
  {
   "metadata": {
    "ExecuteTime": {
     "end_time": "2024-09-08T17:12:09.923208Z",
     "start_time": "2024-09-08T17:12:09.920426Z"
    }
   },
   "cell_type": "code",
   "source": [
    "from rdflib import Graph\n",
    "\n",
    "\n",
    "# read data\n",
    "def transfer_rdf_to_graph(rdfData_path):\n",
    "    g = Graph()\n",
    "    g.parse(rdfData_path, format=\"ttl\")\n",
    "    return g"
   ],
   "id": "1e489dd5858adb72",
   "outputs": [],
   "execution_count": 11
  },
  {
   "metadata": {
    "ExecuteTime": {
     "end_time": "2024-09-08T17:12:12.603310Z",
     "start_time": "2024-09-08T17:12:09.923987Z"
    }
   },
   "cell_type": "code",
   "source": [
    "import time\n",
    "\n",
    "user_question = \"where is Redfish Lake?\"\n",
    "start_time = time.time()\n",
    "g_10=transfer_rdf_to_graph(\"rdf_data/test_dataset/segment_1.ttl\")\n",
    "entities = generate_entity_response(user_question)\n",
    "print(f\"Question Entity: {entities}\")\n",
    "answer_entity=kgqa_local(entities,g_10)\n",
    "print(f\"Answer Found: {answer_entity}\")\n",
    "response=generate_entity_response(answer_entity)\n",
    "end_time = time.time()\n",
    "elapsed_time = end_time - start_time\n",
    "print(f\"Response Time: {elapsed_time:.4f} Second\")\n",
    "print(f\"question: {user_question}\\nLlama response: {response}\\n\")"
   ],
   "id": "4df4bf9342445748",
   "outputs": [
    {
     "name": "stdout",
     "output_type": "stream",
     "text": [
      "Question Entity: [(Redfish Lake)(located in)(?)]\n",
      "Answer Found: \n",
      "Response Time: 2.6750 Second\n",
      "question: where is Redfish Lake?\n",
      "Llama response: I'm ready to help! Please go ahead and ask your question. I'll detect the subject, predicate, and object, and provide a response based on the given information.\n",
      "\n"
     ]
    }
   ],
   "execution_count": 12
  },
  {
   "metadata": {
    "ExecuteTime": {
     "end_time": "2024-09-08T17:12:15.245942Z",
     "start_time": "2024-09-08T17:12:12.604347Z"
    }
   },
   "cell_type": "code",
   "source": [
    "user_question = \"where is Chamisso Wilderness?\"\n",
    "start_time = time.time()\n",
    "g_50=transfer_rdf_to_graph(\"rdf_data/test_dataset/segment_2.ttl\")\n",
    "entities = generate_entity_response(user_question)\n",
    "print(f\"Question Entity: {entities}\")\n",
    "answer_entity=kgqa_local(entities,g_50)\n",
    "print(f\"Answer Found: {answer_entity}\")\n",
    "response=generate_entity_response(answer_entity)\n",
    "end_time = time.time()\n",
    "elapsed_time = end_time - start_time\n",
    "print(f\"Response Time: {elapsed_time:.4f} Second\")\n",
    "print(f\"question: {user_question}\\nLlama response: {response}\\n\")"
   ],
   "id": "2689f65422006b85",
   "outputs": [
    {
     "name": "stdout",
     "output_type": "stream",
     "text": [
      "Question Entity: [(Chamisso Wilderness)(located in)(?)]\n",
      "Answer Found: \n",
      "Response Time: 2.6387 Second\n",
      "question: where is Chamisso Wilderness?\n",
      "Llama response: I'm ready to help! Please go ahead and ask your question. I'll detect the subject, predicate, and object, and provide a response based on the given information.\n",
      "\n"
     ]
    }
   ],
   "execution_count": 13
  },
  {
   "metadata": {
    "ExecuteTime": {
     "end_time": "2024-09-08T17:12:18.289739Z",
     "start_time": "2024-09-08T17:12:15.246746Z"
    }
   },
   "cell_type": "code",
   "source": [
    "user_question = \"what is the Utto??\"\n",
    "start_time = time.time()\n",
    "g_100=transfer_rdf_to_graph(\"rdf_data/test_dataset/segment_3.ttl\")\n",
    "entities = generate_entity_response(user_question)\n",
    "print(f\"Question Entity: {entities}\")\n",
    "answer_entity=kgqa_local(entities,g_100)\n",
    "print(f\"Answer Found: {answer_entity}\")\n",
    "response=generate_entity_response(answer_entity)\n",
    "end_time = time.time()\n",
    "elapsed_time = end_time - start_time\n",
    "print(f\"Response Time: {elapsed_time:.4f} Second\")\n",
    "print(f\"question: {user_question}\\nLlama response: {response}\\n\")"
   ],
   "id": "1be5ef82d92a7ab7",
   "outputs": [
    {
     "name": "stdout",
     "output_type": "stream",
     "text": [
      "Question Entity: [(Utto)(?)(?)]\n",
      "Answer Found: [(Utto)(rdf-schema#comment)(The Blessed Utto was the first abbot of the Bavarian Metten Abbey of the Benedictine Order. His feast is celebrated on October 3.)]\n",
      "\n",
      "Response Time: 3.0405 Second\n",
      "question: what is the Utto??\n",
      "Llama response: Utto is the subject, rdf-schema#comment is the predicate, and The Blessed Utto was the first abbot of the Bavarian Metten Abbey of the Benedictine Order. His feast is celebrated on October 3 is the object.\n",
      "\n"
     ]
    }
   ],
   "execution_count": 14
  },
  {
   "metadata": {},
   "cell_type": "markdown",
   "source": "## Generalisation Test",
   "id": "7fb675336a50f3a5"
  },
  {
   "metadata": {
    "ExecuteTime": {
     "end_time": "2024-09-08T17:12:34.521545Z",
     "start_time": "2024-09-08T17:12:18.290617Z"
    }
   },
   "cell_type": "code",
   "source": [
    "g_10=transfer_rdf_to_graph(\"rdf_data/test_dataset/segment_1.ttl\")\n",
    "\n",
    "user_question = \"what is the Gonzalez Spur?\"\n",
    "entities = generate_entity_response(user_question)\n",
    "answer_entity=kgqa_local(entities,g_10)\n",
    "response=generate_entity_response(answer_entity)\n",
    "print(f\"question: {user_question}\\nLlama response: {response}\\n\")\n",
    "\n",
    "user_question = \"what is the Beyond the Sixth Seal?\"\n",
    "entities = generate_entity_response(user_question)\n",
    "answer_entity=kgqa_local(entities,g_10)\n",
    "response=generate_entity_response(answer_entity)\n",
    "print(f\"question: {user_question}\\nLlama response: {response}\\n\")\n",
    "\n",
    "user_question = \"what is the Knockgraffon?\"\n",
    "entities = generate_entity_response(user_question)\n",
    "answer_entity=kgqa_local(entities,g_10)\n",
    "response=generate_entity_response(answer_entity)\n",
    "print(f\"question: {user_question}\\nLlama response: {response}\\n\")\n",
    "\n",
    "user_question = \"who is Nicholas J. Sinnott?\"\n",
    "entities = generate_entity_response(user_question)\n",
    "answer_entity=kgqa_local(entities,g_10)\n",
    "response=generate_entity_response(answer_entity)\n",
    "print(f\"question: {user_question}\\nLlama response: {response}\\n\")\n",
    "\n",
    "user_question = \"where is the Redfish Lake?\"\n",
    "entities = generate_entity_response(user_question)\n",
    "answer_entity=kgqa_local(entities,g_10)\n",
    "response=generate_entity_response(answer_entity)\n",
    "print(f\"question: {user_question}\\nLlama response: {response}\\n\")"
   ],
   "id": "56e456531ffc71d9",
   "outputs": [
    {
     "name": "stdout",
     "output_type": "stream",
     "text": [
      "question: what is the Gonzalez Spur?\n",
      "Llama response: I'm ready to help! Please go ahead and ask your question. I'll detect the subject, predicate, and object, and provide a response based on the given information.\n",
      "\n",
      "question: what is the Beyond the Sixth Seal?\n",
      "Llama response: I'm ready to help! Please go ahead and ask your question. I'll detect the subject, predicate, and object, and provide a response based on the given information.\n",
      "\n",
      "question: what is the Knockgraffon?\n",
      "Llama response: I detect the following relationships:\n",
      "\n",
      "* [(Knockgraffon)(rdf-schema#comment)(Knockgraffon (Irish: Cnoc Rafann or also Cnoc Rath Fionn meaning \"Hill of the fort of Fionn\") is a townland in the civil parish of same name in County Tipperary, Ireland The civil parish lies in the barony of Middle Third. It is also part of the ecclesiastical parish of New Inn & Knockgraffon in the Roman Catholic Archdiocese of Cashel and Emly. Interesting features include a fine Motte, a church and a castle.)]\n",
      "\t+ [(Knockgraffon)(located in)(County Tipperary, Ireland)]\n",
      "\t\n",
      "\n",
      "question: who is Nicholas J. Sinnott?\n",
      "Llama response: I'm ready to help! Please go ahead and ask your question. I'll detect the subject, predicate, and object, and provide a response based on the given information.\n",
      "\n",
      "question: where is the Redfish Lake?\n",
      "Llama response: I'm ready to help! Please go ahead and ask your question. I'll detect the subject, predicate, and object, and provide a response based on the given information.\n",
      "\n"
     ]
    }
   ],
   "execution_count": 15
  }
 ],
 "metadata": {
  "kernelspec": {
   "display_name": "Python 3",
   "language": "python",
   "name": "python3"
  },
  "language_info": {
   "codemirror_mode": {
    "name": "ipython",
    "version": 2
   },
   "file_extension": ".py",
   "mimetype": "text/x-python",
   "name": "python",
   "nbconvert_exporter": "python",
   "pygments_lexer": "ipython2",
   "version": "2.7.6"
  }
 },
 "nbformat": 4,
 "nbformat_minor": 5
}
