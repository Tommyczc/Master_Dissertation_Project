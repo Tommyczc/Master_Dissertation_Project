{
 "cells": [
  {
   "metadata": {},
   "cell_type": "markdown",
   "source": "# This is only for mac (ARM64)",
   "id": "c24e5813794da3ae"
  },
  {
   "metadata": {},
   "cell_type": "markdown",
   "source": "## Import llama3-8b",
   "id": "c4401bf39c8c38f7"
  },
  {
   "metadata": {
    "ExecuteTime": {
     "end_time": "2024-08-18T22:36:56.942058Z",
     "start_time": "2024-08-18T22:36:50.507833Z"
    }
   },
   "cell_type": "code",
   "source": [
    "from mlx_lm import load, generate\n",
    "model, tokenizer = load(\"mlx-community/Meta-Llama-3-8B-Instruct-4bit\")"
   ],
   "id": "fdf1c6dfd92a2b72",
   "outputs": [
    {
     "data": {
      "text/plain": [
       "Fetching 6 files:   0%|          | 0/6 [00:00<?, ?it/s]"
      ],
      "application/vnd.jupyter.widget-view+json": {
       "version_major": 2,
       "version_minor": 0,
       "model_id": "322ea15e45e2483b9995af52fce330c7"
      }
     },
     "metadata": {},
     "output_type": "display_data"
    }
   ],
   "execution_count": 1
  },
  {
   "metadata": {},
   "cell_type": "markdown",
   "source": "## Example",
   "id": "1bf755ad3514db8f"
  },
  {
   "metadata": {
    "ExecuteTime": {
     "end_time": "2024-08-18T22:37:00.018797Z",
     "start_time": "2024-08-18T22:36:56.943383Z"
    }
   },
   "cell_type": "code",
   "source": [
    "SYSTEM_MSG = (\"You are an assistant that detects [(subject)(predicate)(object)] and their relationships in user's questions, for example:\"\n",
    "              \"user question: where is china?\"\n",
    "              \"your answer: [(china)(located in)(?)]\"\n",
    "              \"user question: where is USA?\"\n",
    "              \"Your answer: [(USA)(located in)(?)]\"\n",
    "              \"user question: where is UK's capital?\"\n",
    "              \"your answer: [(UK's capital)(located in)(?)]\"\n",
    "              \"user question: how is china?\"\n",
    "              \"your answer: [(china)(?)(?)]\"\n",
    "              \"user question: what kind of data do you have?\"\n",
    "              \"your answer: [(?)(?)(?)]\"\n",
    "              \"Also, you have to complete the sentence must only base on given information, for example:\"\n",
    "              \"user question: [(china)(located in)(Asia)]\"\n",
    "              \"your answer: China is located in Asia.\"\n",
    "              \"user question: [(?)(?)(?)]\"\n",
    "              \"your answer: cannot find related data in database.\")\n",
    "\n",
    "def generate_entity_response(promptStr, maxTokens=150):\n",
    "    messages = [\n",
    "        {\"role\": \"system\", \"content\": SYSTEM_MSG},\n",
    "        {\"role\": \"user\", \"content\": promptStr},\n",
    "    ]\n",
    "    # print(messages)\n",
    "    # 将消息应用于聊天模板并生成输入ID\n",
    "    input_ids = tokenizer.apply_chat_template(messages, add_generation_prompt=True)\n",
    "    prompt = tokenizer.decode(input_ids)\n",
    "\n",
    "    # 生成响应\n",
    "    response = generate(model, tokenizer, prompt=prompt, max_tokens=maxTokens)\n",
    "\n",
    "    return response\n",
    "\n",
    "\n",
    "# example\n",
    "user_question = \"how is USA?\"\n",
    "response = generate_entity_response(user_question)\n",
    "print(response)\n",
    "\n",
    "# other question\n",
    "user_question = \"where is japan's capital\"\n",
    "response = generate_entity_response(user_question)\n",
    "print(response)\n",
    "\n",
    "user_question = \"[(I)(am)(tommy)]\"\n",
    "response = generate_entity_response(user_question)\n",
    "print(response)"
   ],
   "id": "1a85a172722400af",
   "outputs": [
    {
     "name": "stdout",
     "output_type": "stream",
     "text": [
      "[(USA)(?)(?)]\n",
      "[(japan's capital)(located in)(?)]\n",
      "I am Tommy.\n"
     ]
    }
   ],
   "execution_count": 2
  },
  {
   "metadata": {},
   "cell_type": "markdown",
   "source": [
    "## Train a llama which can learn rdf (version 2)\n",
    "#### first, initial database and get all rdf data"
   ],
   "id": "2c6907eda6c21390"
  },
  {
   "metadata": {
    "ExecuteTime": {
     "end_time": "2024-08-18T22:37:00.283856Z",
     "start_time": "2024-08-18T22:37:00.020163Z"
    }
   },
   "cell_type": "code",
   "source": [
    "from jena.fuseki_client import JenaClient\n",
    "from mongoDB.mongoDB_client import init_db, MongoDBInterface\n",
    "db, fs = init_db(\n",
    "    \"mongodb://localhost:27017\")\n",
    "db_interface = MongoDBInterface(db, fs)\n",
    "\n",
    "jena_client = JenaClient(jena_url='http://127.0.0.1:3030', dataset='test')  "
   ],
   "id": "83330e9b8db384fe",
   "outputs": [],
   "execution_count": 3
  },
  {
   "metadata": {
    "ExecuteTime": {
     "end_time": "2024-08-18T22:37:00.286151Z",
     "start_time": "2024-08-18T22:37:00.284555Z"
    }
   },
   "cell_type": "code",
   "source": [
    "# import json\n",
    "# code,text=jena_client.execute_sparql_query_global(\"SELECT * WHERE { ?sub ?pred ?obj .}\")\n",
    "# # print(\"text: \",text)\n",
    "# \n",
    "# def rdf_to_natural_language(rdf_data):\n",
    "#     descriptions = []\n",
    "#     for triple in rdf_data:\n",
    "#         subj = triple['sub']['value'].split('/')[-1]\n",
    "#         pred = triple['pred']['value'].split('/')[-1].replace('_', ' ')\n",
    "#         obj = triple['obj']['value'].split('/')[-1]\n",
    "#         description = f\"{subj} {pred} {obj}.\"\n",
    "#         descriptions.append(description)\n",
    "#     return \"\\n\".join(descriptions)\n",
    "# \n",
    "# rdf_to_nl=\"\"\n",
    "# if code == 200:\n",
    "#     # print(text)\n",
    "#     json_object=json.loads(text)\n",
    "#     result=json_object['results']['bindings']\n",
    "#     rdf_to_nl=rdf_to_natural_language(result)\n",
    "#     print(rdf_to_nl)\n",
    "#     "
   ],
   "id": "b3fa88087207cee",
   "outputs": [],
   "execution_count": 4
  },
  {
   "metadata": {
    "ExecuteTime": {
     "end_time": "2024-08-18T22:37:00.502065Z",
     "start_time": "2024-08-18T22:37:00.287405Z"
    }
   },
   "cell_type": "code",
   "source": [
    "import re\n",
    "import json\n",
    "def kgqa(entity_string):\n",
    "    matches = re.findall(r'\\((.*?)\\)', entity_string)\n",
    "    if len(matches) == 3:\n",
    "        matches = [item.replace('?', '') for item in matches]\n",
    "        filter_query =''\n",
    "        if matches[0]!='':\n",
    "            filter_query+=f'REGEX(STR(?subject), \"{matches[0]}\", \"i\")'\n",
    "        if matches[1]!='':\n",
    "            filter_query+=f'|| REGEX(STR(?object), \"{matches[1]}\", \"i\")'\n",
    "        if matches[2]!='':\n",
    "            filter_query+=f'|| REGEX(STR(?predicate), \"{matches[2]}\", \"i\")'\n",
    "            \n",
    "        sparql_query = f\"\"\"\n",
    "        SELECT ?subject ?predicate ?object\n",
    "        WHERE {{\n",
    "            graph  ?g{{\n",
    "                ?subject ?predicate ?object .\n",
    "                Filter({filter_query})\n",
    "            }}\n",
    "        }}\n",
    "        LIMIT 10\n",
    "        \"\"\"\n",
    "        \n",
    "        response = jena_client.execute_simple_query(sparql_query)\n",
    "        if response is not None:\n",
    "            data = json.loads(response)\n",
    "            # print(data['results']['bindings'])\n",
    "            if not data['results']['bindings']:\n",
    "                return '[(?)(?)(?)]'\n",
    "            extracted_data=''\n",
    "            # 简化数据提取过程\n",
    "            # extracted_data = \"\\n\".join([f\"{item['subject']['value']} {item['predicate']['value']} {item['object']['value']}\" for item in data['results']['bindings']])\n",
    "            for item in data['results']['bindings']:\n",
    "                extracted_data+=f\"[({item['subject']['value'].split('/')[-1]})({item['predicate']['value'].split('/')[-1]})({item['object']['value'].split('/')[-1]})]\\n\"\n",
    "                # print(\"data:\",extracted_data)\n",
    "            return extracted_data\n",
    "        else:\n",
    "            return '[(?)(?)(?)]'\n",
    "    else:\n",
    "        return '[(?)(?)(?)]'\n",
    "    \n",
    "print(kgqa(\"[(country1)(located in)(?)]\"))"
   ],
   "id": "d44024853b59a340",
   "outputs": [
    {
     "name": "stdout",
     "output_type": "stream",
     "text": [
      "[(country1)(has_border_with)(country2)]\n",
      "[(country1)(located_in)(part1)]\n",
      "\n"
     ]
    }
   ],
   "execution_count": 5
  },
  {
   "metadata": {
    "ExecuteTime": {
     "end_time": "2024-08-18T22:37:02.301498Z",
     "start_time": "2024-08-18T22:37:00.503416Z"
    }
   },
   "cell_type": "code",
   "source": [
    "user_question = \"how is Africa?\"\n",
    "entities = generate_entity_response(user_question)\n",
    "print(entities)\n",
    "answer_entity=kgqa(entities)\n",
    "response=generate_entity_response(answer_entity)\n",
    "print(response)"
   ],
   "id": "cfc429a54fc3a1e2",
   "outputs": [
    {
     "name": "stdout",
     "output_type": "stream",
     "text": [
      "[(Africa)(?)(?)]\n",
      "Cannot find related data in database.\n"
     ]
    }
   ],
   "execution_count": 6
  },
  {
   "metadata": {
    "ExecuteTime": {
     "end_time": "2024-08-18T22:37:05.039106Z",
     "start_time": "2024-08-18T22:37:02.302340Z"
    }
   },
   "cell_type": "code",
   "source": [
    "user_question = \"who are you?\"\n",
    "entities = generate_entity_response(user_question)\n",
    "answer_entity=kgqa(entities)\n",
    "response=generate_entity_response(answer_entity)\n",
    "print(response)"
   ],
   "id": "72d2c3761192b9f1",
   "outputs": [
    {
     "name": "stdout",
     "output_type": "stream",
     "text": [
      "Cannot find related data in database.\n"
     ]
    }
   ],
   "execution_count": 7
  },
  {
   "metadata": {
    "ExecuteTime": {
     "end_time": "2024-08-18T22:37:10.623004Z",
     "start_time": "2024-08-18T22:37:05.039830Z"
    }
   },
   "cell_type": "code",
   "source": [
    "user_question = \"where is country1\"\n",
    "entities = generate_entity_response(user_question)\n",
    "print(entities)\n",
    "answer_entity=kgqa(entities)\n",
    "print(answer_entity)\n",
    "response=generate_entity_response(answer_entity)\n",
    "print(response)"
   ],
   "id": "8f630838cceb3c46",
   "outputs": [
    {
     "name": "stdout",
     "output_type": "stream",
     "text": [
      "[(country1)(located in)(?)]\n",
      "[(country1)(has_border_with)(country2)]\n",
      "[(country1)(located_in)(part1)]\n",
      "\n",
      "I can help you with that!\n",
      "\n",
      "For [(country1)(has_border_with)(country2)]:\n",
      "\n",
      "* [(China)(has_border_with)(North Korea)]\n",
      "* [(China)(has_border_with)(Russia)]\n",
      "* [(China)(has_border_with)(India)]\n",
      "* [(China)(has_border_with)(Vietnam)]\n",
      "* [(China)(has_border_with)(Laos)]\n",
      "* [(China)(has_border_with)(Myanmar)]\n",
      "* [(China)(has_border_with)(Nepal)]\n",
      "* [(China)(has_border_with)(Pakistan)]\n",
      "* [(China)(has_border_with)(Afghanistan)]\n",
      "* [(China)(has_border_with)(Kazakhstan)]\n",
      "* [(China)(has_border_with)(Kyrgyzstan)]\n",
      "* [(China)(has_border_with)(\n"
     ]
    }
   ],
   "execution_count": 8
  },
  {
   "metadata": {
    "ExecuteTime": {
     "end_time": "2024-08-18T22:37:12.745670Z",
     "start_time": "2024-08-18T22:37:10.623834Z"
    }
   },
   "cell_type": "code",
   "source": [
    "user_question = \"which country is located in part 2?\"\n",
    "entities = generate_entity_response(user_question)\n",
    "answer_entity=kgqa(entities)\n",
    "print(answer_entity)\n",
    "response=generate_entity_response(answer_entity)\n",
    "print(response)"
   ],
   "id": "ea88d7cf97c83c72",
   "outputs": [
    {
     "name": "stdout",
     "output_type": "stream",
     "text": [
      "[(?)(?)(?)]\n",
      "Cannot find related data in database.\n"
     ]
    }
   ],
   "execution_count": 9
  },
  {
   "metadata": {
    "ExecuteTime": {
     "end_time": "2024-08-18T22:37:12.748005Z",
     "start_time": "2024-08-18T22:37:12.746385Z"
    }
   },
   "cell_type": "code",
   "source": "",
   "id": "9641720c629cfa0c",
   "outputs": [],
   "execution_count": 9
  }
 ],
 "metadata": {
  "kernelspec": {
   "display_name": "Python 3",
   "language": "python",
   "name": "python3"
  },
  "language_info": {
   "codemirror_mode": {
    "name": "ipython",
    "version": 2
   },
   "file_extension": ".py",
   "mimetype": "text/x-python",
   "name": "python",
   "nbconvert_exporter": "python",
   "pygments_lexer": "ipython2",
   "version": "2.7.6"
  }
 },
 "nbformat": 4,
 "nbformat_minor": 5
}
