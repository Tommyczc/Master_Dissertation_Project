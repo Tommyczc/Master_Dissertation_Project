{
 "cells": [
  {
   "cell_type": "code",
   "id": "initial_id",
   "metadata": {
    "collapsed": true,
    "ExecuteTime": {
     "end_time": "2024-08-06T16:53:30.614165Z",
     "start_time": "2024-08-06T16:53:28.882243Z"
    }
   },
   "source": [
    "from pdf2docx import Converter\n",
    "\n",
    "def pdf_to_docx(pdf_file, docx_file):\n",
    "    # 创建转换器对象\n",
    "    cv = Converter(pdf_file)\n",
    "    # 执行转换\n",
    "    cv.convert(docx_file, start=0, end=None)\n",
    "    # 关闭转换器\n",
    "    cv.close()\n",
    "\n",
    "# 示例调用\n",
    "pdf_file = 'E:/Apps/OneDrive/文档/mater课件(整理)/Dissertation Project/my_paper/main.pdf'\n",
    "docx_file = 'E:/Apps/OneDrive/文档/mater课件(整理)/Dissertation Project/my_paper/main.docx'\n",
    "pdf_to_docx(pdf_file, docx_file)"
   ],
   "outputs": [
    {
     "name": "stderr",
     "output_type": "stream",
     "text": [
      "[INFO] Start to convert E:/Apps/OneDrive/文档/mater课件(整理)/Dissertation Project/my_paper/main.pdf\n",
      "[INFO] \u001B[1;36m[1/4] Opening document...\u001B[0m\n",
      "[INFO] \u001B[1;36m[2/4] Analyzing document...\u001B[0m\n",
      "[INFO] \u001B[1;36m[3/4] Parsing pages...\u001B[0m\n",
      "[INFO] (1/13) Page 1\n",
      "[INFO] (2/13) Page 2\n",
      "[INFO] (3/13) Page 3\n",
      "[INFO] (4/13) Page 4\n",
      "[INFO] (5/13) Page 5\n",
      "[INFO] (6/13) Page 6\n",
      "[INFO] (7/13) Page 7\n",
      "[INFO] (8/13) Page 8\n",
      "[INFO] (9/13) Page 9\n",
      "[INFO] (10/13) Page 10\n",
      "[INFO] (11/13) Page 11\n",
      "[INFO] (12/13) Page 12\n",
      "[INFO] (13/13) Page 13\n",
      "[INFO] \u001B[1;36m[4/4] Creating pages...\u001B[0m\n",
      "[INFO] (1/13) Page 1\n",
      "[INFO] (2/13) Page 2\n",
      "[INFO] (3/13) Page 3\n",
      "[INFO] (4/13) Page 4\n",
      "[INFO] (5/13) Page 5\n",
      "[INFO] (6/13) Page 6\n",
      "[INFO] (7/13) Page 7\n",
      "[INFO] (8/13) Page 8\n",
      "[INFO] (9/13) Page 9\n",
      "[INFO] (10/13) Page 10\n",
      "[INFO] (11/13) Page 11\n",
      "[INFO] (12/13) Page 12\n",
      "[INFO] (13/13) Page 13\n",
      "[INFO] Terminated in 1.20s.\n"
     ]
    }
   ],
   "execution_count": 1
  },
  {
   "metadata": {},
   "cell_type": "code",
   "outputs": [],
   "execution_count": null,
   "source": "",
   "id": "24d61058bf5e6d58"
  }
 ],
 "metadata": {
  "kernelspec": {
   "display_name": "Python 3",
   "language": "python",
   "name": "python3"
  },
  "language_info": {
   "codemirror_mode": {
    "name": "ipython",
    "version": 2
   },
   "file_extension": ".py",
   "mimetype": "text/x-python",
   "name": "python",
   "nbconvert_exporter": "python",
   "pygments_lexer": "ipython2",
   "version": "2.7.6"
  }
 },
 "nbformat": 4,
 "nbformat_minor": 5
}
