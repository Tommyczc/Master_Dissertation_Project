{
 "cells": [
  {
   "cell_type": "code",
   "execution_count": null,
   "id": "initial_id",
   "metadata": {
    "collapsed": true
   },
   "outputs": [],
   "source": [
    "from pdf2docx import Converter\n",
    "\n",
    "def pdf_to_docx(pdf_file, docx_file):\n",
    "    # 创建转换器对象\n",
    "    cv = Converter(pdf_file)\n",
    "    # 执行转换\n",
    "    cv.convert(docx_file, start=0, end=None)\n",
    "    # 关闭转换器\n",
    "    cv.close()\n",
    "\n",
    "# 示例调用\n",
    "pdf_file = 'path/to/your/file.pdf'\n",
    "docx_file = 'path/to/your/file.docx'\n",
    "pdf_to_docx(pdf_file, docx_file)"
   ]
  }
 ],
 "metadata": {
  "kernelspec": {
   "display_name": "Python 3",
   "language": "python",
   "name": "python3"
  },
  "language_info": {
   "codemirror_mode": {
    "name": "ipython",
    "version": 2
   },
   "file_extension": ".py",
   "mimetype": "text/x-python",
   "name": "python",
   "nbconvert_exporter": "python",
   "pygments_lexer": "ipython2",
   "version": "2.7.6"
  }
 },
 "nbformat": 4,
 "nbformat_minor": 5
}
