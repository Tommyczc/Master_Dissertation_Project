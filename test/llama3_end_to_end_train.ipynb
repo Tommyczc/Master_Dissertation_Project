{
 "cells": [
  {
   "metadata": {},
   "cell_type": "markdown",
   "source": "# This is only for mac (ARM64)",
   "id": "c24e5813794da3ae"
  },
  {
   "metadata": {},
   "cell_type": "markdown",
   "source": "## Import llama3-8b",
   "id": "c4401bf39c8c38f7"
  },
  {
   "metadata": {
    "ExecuteTime": {
     "end_time": "2024-09-08T17:08:02.885721Z",
     "start_time": "2024-09-08T17:07:58.574011Z"
    }
   },
   "cell_type": "code",
   "source": [
    "import time\n",
    "from mlx_lm import load, generate\n",
    "model, tokenizer = load(\"mlx-community/Meta-Llama-3-8B-Instruct-4bit\")"
   ],
   "id": "fdf1c6dfd92a2b72",
   "outputs": [
    {
     "data": {
      "text/plain": [
       "Fetching 6 files:   0%|          | 0/6 [00:00<?, ?it/s]"
      ],
      "application/vnd.jupyter.widget-view+json": {
       "version_major": 2,
       "version_minor": 0,
       "model_id": "21322c0adc54468f9bbc576fd5bad72c"
      }
     },
     "metadata": {},
     "output_type": "display_data"
    }
   ],
   "execution_count": 1
  },
  {
   "metadata": {},
   "cell_type": "markdown",
   "source": "## Example",
   "id": "1bf755ad3514db8f"
  },
  {
   "metadata": {
    "ExecuteTime": {
     "end_time": "2024-09-08T17:08:04.504209Z",
     "start_time": "2024-09-08T17:08:02.887046Z"
    }
   },
   "cell_type": "code",
   "source": [
    "SYSTEM_MSG = (\"You are an assistant that detects entities and their relationships in questions, for example:\"\n",
    "              \"user question: where is china?\"\n",
    "              \"your answer: [(china)(located in)(?)]\"\n",
    "              \"user question: where is USA?\"\n",
    "              \"Your answer: [(USA)(located in)(?)]\"\n",
    "              \"user question: where is UK's capital?\"\n",
    "              \"your answer: [(UK's capital)(located in)(?)]\")\n",
    "\n",
    "def generate_entity_response(promptStr, maxTokens=100):\n",
    "    messages = [\n",
    "        {\"role\": \"system\", \"content\": SYSTEM_MSG},\n",
    "        {\"role\": \"user\", \"content\": promptStr},\n",
    "    ]\n",
    "    # print(messages)\n",
    "    # 将消息应用于聊天模板并生成输入ID\n",
    "    input_ids = tokenizer.apply_chat_template(messages, add_generation_prompt=True)\n",
    "    prompt = tokenizer.decode(input_ids)\n",
    "\n",
    "    # 生成响应\n",
    "    response = generate(model, tokenizer, prompt=prompt, max_tokens=maxTokens)\n",
    "\n",
    "    return response\n",
    "\n",
    "\n",
    "# example\n",
    "user_question = \"Where is China?\"\n",
    "response = generate_entity_response(user_question)\n",
    "print(response)\n",
    "\n",
    "# other question\n",
    "user_question = \"where is japan's capital\"\n",
    "response = generate_entity_response(user_question)\n",
    "print(response)"
   ],
   "id": "1a85a172722400af",
   "outputs": [
    {
     "name": "stdout",
     "output_type": "stream",
     "text": [
      "[(China)(located in)(?)]\n",
      "[(Japan's capital)(located in)(?)]\n"
     ]
    }
   ],
   "execution_count": 2
  },
  {
   "metadata": {},
   "cell_type": "markdown",
   "source": [
    "## Train a llama which can learn rdf\n",
    "#### first, initial database and get all rdf data"
   ],
   "id": "2c6907eda6c21390"
  },
  {
   "metadata": {
    "ExecuteTime": {
     "end_time": "2024-09-08T17:08:04.699983Z",
     "start_time": "2024-09-08T17:08:04.504960Z"
    }
   },
   "cell_type": "code",
   "source": [
    "from jena.fuseki_client import JenaClient\n",
    "from mongoDB.mongoDB_client import init_db, MongoDBInterface\n",
    "db, fs = init_db(\n",
    "    \"mongodb://localhost:27017\")\n",
    "db_interface = MongoDBInterface(db, fs)\n",
    "\n",
    "jena_client = JenaClient(jena_url='http://127.0.0.1:3030', dataset='test')  "
   ],
   "id": "83330e9b8db384fe",
   "outputs": [],
   "execution_count": 3
  },
  {
   "metadata": {
    "ExecuteTime": {
     "end_time": "2024-09-08T17:08:04.808590Z",
     "start_time": "2024-09-08T17:08:04.701390Z"
    }
   },
   "cell_type": "code",
   "source": [
    "import json\n",
    "code,text=jena_client.execute_sparql_query_global(\"SELECT * WHERE { ?sub ?pred ?obj .}\")\n",
    "# print(\"text: \",text)\n",
    "\n",
    "def rdf_to_natural_language(rdf_data):\n",
    "    descriptions = []\n",
    "    for s,o,p in rdf_data:\n",
    "        subj = s.split('/')[-1]\n",
    "        pred = p.split('/')[-1].replace('_', ' ')\n",
    "        obj = o.split('/')[-1]\n",
    "        description = f\"{subj} {pred} {obj}.\"\n",
    "        descriptions.append(description)\n",
    "    return \"\\n\".join(descriptions)\n",
    "\n",
    "rdf_to_nl=\"\"\n",
    "if code == 200:\n",
    "    rdf_to_nl=rdf_to_natural_language(text)\n",
    "    "
   ],
   "id": "b3fa88087207cee",
   "outputs": [],
   "execution_count": 4
  },
  {
   "metadata": {
    "ExecuteTime": {
     "end_time": "2024-09-08T17:08:28.029806Z",
     "start_time": "2024-09-08T17:08:04.809499Z"
    }
   },
   "cell_type": "code",
   "source": [
    "model, tokenizer = load(\"mlx-community/Meta-Llama-3-8B-Instruct-4bit\")\n",
    "\n",
    "# 准备初始上下文\n",
    "SYSTEM_MSG = (f\"You are a knowledgeable assistant who answers questions based on the provided data, \"\n",
    "              f\"If the user's question is out of scope for this dataset, you should only answer: Sorry, this question is out of scope.\"\n",
    "              f\"\\n\\nHere is the data:\\n{rdf_to_nl}\")\n",
    "\n",
    "\n",
    "# 生成回答\n",
    "def generate_response(question, initial_context, max_tokens=150):\n",
    "    messages = [\n",
    "        {\"role\": \"system\", \"content\": initial_context},\n",
    "        {\"role\": \"user\", \"content\": question},\n",
    "    ]\n",
    "\n",
    "    # 将消息应用于聊天模板并生成输入ID\n",
    "    input_ids = tokenizer.apply_chat_template(messages, add_generation_prompt=True)\n",
    "    prompt = tokenizer.decode(input_ids)\n",
    "\n",
    "    \n",
    "    # 生成响应\n",
    "    response = generate(model, tokenizer, prompt=prompt, max_tokens=max_tokens)\n",
    "    \n",
    "\n",
    "    return response\n",
    "\n",
    "# example\n",
    "user_question = \"Where is country1?\"\n",
    "response = generate_response(user_question, SYSTEM_MSG)\n",
    "print(f\"question: {user_question}\\nLlama response: {response}\\n\")\n",
    "\n",
    "# question which out of scope\n",
    "user_question = \"Where is USA\"\n",
    "response = generate_response(user_question, SYSTEM_MSG)\n",
    "print(f\"question: {user_question}\\nLlama response: {response}\")"
   ],
   "id": "3a2860a63670b5fb",
   "outputs": [
    {
     "data": {
      "text/plain": [
       "Fetching 6 files:   0%|          | 0/6 [00:00<?, ?it/s]"
      ],
      "application/vnd.jupyter.widget-view+json": {
       "version_major": 2,
       "version_minor": 0,
       "model_id": "584f36837ead48eb9e93822c3a651bcb"
      }
     },
     "metadata": {},
     "output_type": "display_data"
    },
    {
     "name": "stdout",
     "output_type": "stream",
     "text": [
      "question: Where is country1?\n",
      "Llama response: Sorry, this question is out of scope.\n",
      "\n",
      "question: Where is USA\n",
      "Llama response: According to the provided data, USA is mentioned in the following statements:\n",
      "\n",
      "* Nicholas_J._Sinnott rdf-schema#comment: He was later appointed by President Calvin Coolidge to be a Judge on the Court of Claims, serving from 1928 to 1929.\n",
      "* Redfish_Lake rdf-schema#comment: It is the largest lake within the Sawtooth National Recreation Area.\n",
      "* Interchange_Cable_Network rdf-schema#comment: The first cable, ICN1 (Interchange Cable Network 1) links Fiji to Vanuatu and has been in service since 15 January 2014.\n"
     ]
    }
   ],
   "execution_count": 5
  },
  {
   "metadata": {
    "ExecuteTime": {
     "end_time": "2024-09-08T17:08:32.895328Z",
     "start_time": "2024-09-08T17:08:28.031209Z"
    }
   },
   "cell_type": "code",
   "source": [
    "# 将消息应用于聊天模板并生成输入ID\n",
    "question = \"i want some information of country 1\"\n",
    "messages=[{'role':'user','content':question}]\n",
    "input_ids = tokenizer.apply_chat_template(messages, add_generation_prompt=True)\n",
    "prompt = tokenizer.decode(input_ids)\n",
    "response = generate_response(question, SYSTEM_MSG)\n",
    "print(response)"
   ],
   "id": "cbeaa2c139e4dbb4",
   "outputs": [
    {
     "name": "stdout",
     "output_type": "stream",
     "text": [
      "Sorry, this question is out of scope.\n"
     ]
    }
   ],
   "execution_count": 6
  },
  {
   "metadata": {},
   "cell_type": "markdown",
   "source": "## version 2",
   "id": "e3caa8ae2b3c1154"
  },
  {
   "metadata": {
    "ExecuteTime": {
     "end_time": "2024-09-08T17:08:32.898938Z",
     "start_time": "2024-09-08T17:08:32.896070Z"
    }
   },
   "cell_type": "code",
   "source": [
    "# import json\n",
    "# from mlx_lm import load, generate\n",
    "# \n",
    "# # 从 Jena 客户端获取 RDF 数据\n",
    "# code, text = jena_client.execute_sparql_query_global(\"SELECT * WHERE { ?sub ?pred ?obj .}\")\n",
    "# \n",
    "# # 初始化 LLaMA 模型\n",
    "# rdf_descriptions=\"\"\n",
    "# if code == 200:\n",
    "#     json_object = json.loads(text)\n",
    "#     result = json_object['results']['bindings']\n",
    "#     rdf_descriptions = rdf_to_natural_language(result)\n",
    "# \n",
    "#     model, tokenizer = load(\"mlx-community/Meta-Llama-3-8B-Instruct-4bit\")\n",
    "# \n",
    "# # 准备初始上下文\n",
    "# def generate_system_message_chunk(chunk):\n",
    "#     return (f\"You are a knowledgeable assistant who answers questions based on the provided data. \"\n",
    "#             f\"If the user's question is out of scope for this dataset, you should only answer: Sorry, this question is out of scope.\"\n",
    "#             f\"\\n\\nHere is the data:\\n{chunk}\")\n",
    "# \n",
    "# # 分块生成响应\n",
    "# def generate_response_in_chunks(question, rdf_data, chunk_size=50, max_tokens=100):\n",
    "#     responses = []\n",
    "#     \n",
    "#     \n",
    "#     for i in range(0, len(rdf_data), chunk_size):\n",
    "#         chunk = \"\\n\".join(rdf_data[i:i + chunk_size])\n",
    "#         system_message = generate_system_message_chunk(chunk)\n",
    "# \n",
    "#         messages = [\n",
    "#             {\"role\": \"system\", \"content\": system_message},\n",
    "#             {\"role\": \"user\", \"content\": question},\n",
    "#         ]\n",
    "# \n",
    "#         input_ids = tokenizer.apply_chat_template(messages, add_generation_prompt=True)\n",
    "#         prompt = tokenizer.decode(input_ids)\n",
    "# \n",
    "#         # response\n",
    "#         response = generate(model, tokenizer, prompt=prompt, max_tokens=max_tokens)\n",
    "#         responses.append(response['generated_text'])\n",
    "#     \n",
    "#     # combine response\n",
    "#     final_response = \" \".join(responses)\n",
    "#     return final_response\n",
    "# \n",
    "# # example \n",
    "# user_question = \"Where is country1?\"\n",
    "# response = generate_response_in_chunks(user_question, rdf_descriptions)\n",
    "# print(f\"Question: {user_question}\\nLlama response: {response}\\n\")\n",
    "# \n",
    "# # example question that out of scope\n",
    "# user_question = \"Where is USA?\"\n",
    "# response = generate_response_in_chunks(user_question, rdf_descriptions)\n",
    "# print(f\"Question: {user_question}\\nLlama response: {response}\")"
   ],
   "id": "1902572a65ce3f28",
   "outputs": [],
   "execution_count": 7
  },
  {
   "metadata": {},
   "cell_type": "markdown",
   "source": [
    "## Evaluation\n",
    "\n",
    "#### split dataset"
   ],
   "id": "f7e8aac59daa2254"
  },
  {
   "metadata": {
    "ExecuteTime": {
     "end_time": "2024-09-08T17:08:32.903389Z",
     "start_time": "2024-09-08T17:08:32.899820Z"
    }
   },
   "cell_type": "code",
   "source": [
    "import os\n",
    "import psutil\n",
    "from rdflib import Graph\n",
    "\n",
    "def check_memory_usage():\n",
    "    process = psutil.Process(os.getpid())\n",
    "    mem_info = process.memory_info()\n",
    "    print(f\"Memory Usage: {mem_info.rss / 1024 ** 2:.2f} MB\")\n",
    "    \n",
    "\n",
    "\n",
    "def split_rdf_file(input_file_path, split_sizes):\n",
    "    # Load the RDF data\n",
    "    g = Graph()\n",
    "    g.parse(input_file_path, format=\"ttl\")  # Assuming your file is in Turtle format\n",
    "\n",
    "    # Convert graph to a list of triples\n",
    "    triples = list(g)\n",
    "\n",
    "    # Calculate the indices where to split the triples\n",
    "    indices = [sum(split_sizes[:i+1]) for i in range(len(split_sizes))]\n",
    "\n",
    "    # Initialize the starting index\n",
    "    start_index = 0\n",
    "\n",
    "    for i, end_index in enumerate(indices):\n",
    "        # Create a new graph for each segment\n",
    "        split_graph = Graph()\n",
    "\n",
    "        # Take the slice of triples for this segment\n",
    "        segment_triples = triples[start_index:end_index]\n",
    "\n",
    "        # Add triples to the new graph\n",
    "        for triple in segment_triples:\n",
    "            split_graph.add(triple)\n",
    "\n",
    "        # Save the new graph to a file\n",
    "        split_graph.serialize(destination=f\"rdf_data/test_dataset/segment_{i+1}.ttl\", format=\"ttl\")\n",
    "\n",
    "        # Update start index for next segment\n",
    "        start_index = end_index\n",
    "\n",
    "    print(\"Splitting complete. Segments saved to segment_*.ttl files.\")\n"
   ],
   "id": "5f6cfa593e924bdc",
   "outputs": [],
   "execution_count": 8
  },
  {
   "metadata": {
    "ExecuteTime": {
     "end_time": "2024-09-08T17:08:32.905539Z",
     "start_time": "2024-09-08T17:08:32.904147Z"
    }
   },
   "cell_type": "code",
   "source": [
    "# split the dataset, the \"rdf_data/short-abstracts_lang=en.ttl\" ia available in  \n",
    "# split_sizes = [10, 50, 100]  # Sizes for each segment\n",
    "# split_rdf_file(\"rdf_data/short-abstracts_lang=en.ttl\", split_sizes)"
   ],
   "id": "1bff4e80913952ba",
   "outputs": [],
   "execution_count": 9
  },
  {
   "metadata": {},
   "cell_type": "markdown",
   "source": "## Response Time Test",
   "id": "24ee102402654a3b"
  },
  {
   "metadata": {
    "ExecuteTime": {
     "end_time": "2024-09-08T17:08:32.922104Z",
     "start_time": "2024-09-08T17:08:32.909982Z"
    }
   },
   "cell_type": "code",
   "source": [
    "def transfer_graph_to_nl(testData_path):\n",
    "    g = Graph()\n",
    "    g.parse(testData_path, format=\"ttl\")\n",
    "    descriptions=[]\n",
    "    for s,o,p in g:\n",
    "        # print(s,o,p)\n",
    "        subj = s.split('/')[-1].replace('_', ' ')\n",
    "        pred = p.split('/')[-1].replace('_', ' ')\n",
    "        obj = o.split('/')[-1].replace('_', ' ')\n",
    "        description = f\"{subj} {pred} {obj}.\"\n",
    "        descriptions.append(description)\n",
    "    return \"\\n\".join(descriptions)\n",
    "# read data\n",
    "data_10=transfer_graph_to_nl(\"rdf_data/test_dataset/segment_1.ttl\")\n",
    "data_50=transfer_graph_to_nl(\"rdf_data/test_dataset/segment_2.ttl\")\n",
    "data_100=transfer_graph_to_nl(\"rdf_data/test_dataset/segment_3.ttl\")"
   ],
   "id": "d09b5ee8af2877be",
   "outputs": [],
   "execution_count": 10
  },
  {
   "metadata": {
    "ExecuteTime": {
     "end_time": "2024-09-08T17:08:37.750160Z",
     "start_time": "2024-09-08T17:08:32.922707Z"
    }
   },
   "cell_type": "code",
   "source": [
    "# change system message and input test data 1\n",
    "SYSTEM_MSG1= (f\"You are a knowledgeable assistant who answers questions based on the provided data, \"\n",
    "              f\"If the user's question is out of scope for this dataset, you should only answer: Sorry, this question is out of scope.\"\n",
    "              f\"\\n\\nHere is the data:\\n{data_10}\")\n",
    "user_question = \"where is Redfish Lake?\"\n",
    "start_time = time.time()\n",
    "response = generate_response(user_question, SYSTEM_MSG1)\n",
    "end_time = time.time()\n",
    "elapsed_time = end_time - start_time\n",
    "print(f\"Response Time: {elapsed_time:.4f} Second\")\n",
    "print(f\"question: {user_question}\\nLlama response: {response}\\n\")"
   ],
   "id": "f3e6576c2e689263",
   "outputs": [
    {
     "name": "stdout",
     "output_type": "stream",
     "text": [
      "Response Time: 4.8251 Second\n",
      "question: where is Redfish Lake?\n",
      "Llama response: Redfish Lake is located in Custer County, Idaho, just south of Stanley.\n",
      "\n"
     ]
    }
   ],
   "execution_count": 11
  },
  {
   "metadata": {
    "ExecuteTime": {
     "end_time": "2024-09-08T17:08:54.287116Z",
     "start_time": "2024-09-08T17:08:37.750899Z"
    }
   },
   "cell_type": "code",
   "source": [
    "# change system message and input test data 1\n",
    "SYSTEM_MSG2= (f\"You are a knowledgeable assistant who answers questions based on the provided data, \"\n",
    "              f\"If the user's question is out of scope for this dataset, you should only answer: Sorry, this question is out of scope.\"\n",
    "              f\"\\n\\nHere is the data:\\n{data_50}\")\n",
    "user_question = \"where is Chamisso Wilderness?\"\n",
    "start_time = time.time()\n",
    "response = generate_response(user_question, SYSTEM_MSG2)\n",
    "end_time = time.time()\n",
    "elapsed_time = end_time - start_time\n",
    "print(f\"Response Time: {elapsed_time:.4f} Second\")\n",
    "print(f\"question: {user_question}\\nLlama response: {response}\\n\")"
   ],
   "id": "9b003efd858ec810",
   "execution_count": 12,
   "outputs": [
    {
     "name": "stdout",
     "output_type": "stream",
     "text": [
      "Response Time: 16.5193 Second\n",
      "question: where is Chamisso Wilderness?\n",
      "Llama response: Sorry, this question is out of scope.\n",
      "\n"
     ]
    }
   ]
  },
  {
   "metadata": {
    "ExecuteTime": {
     "end_time": "2024-09-08T17:09:38.207288Z",
     "start_time": "2024-09-08T17:08:54.295404Z"
    }
   },
   "cell_type": "code",
   "source": [
    "# change system message and input test data 1\n",
    "SYSTEM_MSG3= (f\"You are a knowledgeable assistant who answers questions based on the provided data, \"\n",
    "              f\"If the user's question is out of scope for this dataset, you should only answer: Sorry, this question is out of scope.\"\n",
    "              f\"\\n\\nHere is the data:\\n{data_100}\")\n",
    "user_question = \"what is the Utto?\"\n",
    "start_time = time.time()\n",
    "response = generate_response(user_question, SYSTEM_MSG3)\n",
    "end_time = time.time()\n",
    "elapsed_time = end_time - start_time\n",
    "print(f\"Response Time: {elapsed_time:.4f} Second\")\n",
    "print(f\"question: {user_question}\\nLlama response: {response}\\n\")"
   ],
   "id": "13cbd14d74048777",
   "outputs": [
    {
     "name": "stdout",
     "output_type": "stream",
     "text": [
      "Response Time: 43.8850 Second\n",
      "question: what is the Utto?\n",
      "Llama response: Sorry, also known as the Republic of Serbia.\n",
      "\n"
     ]
    }
   ],
   "execution_count": 13
  },
  {
   "metadata": {},
   "cell_type": "markdown",
   "source": "## Generalisation Test",
   "id": "feaabe7a885173f"
  },
  {
   "metadata": {
    "ExecuteTime": {
     "end_time": "2024-09-08T17:10:08.367982Z",
     "start_time": "2024-09-08T17:09:38.212649Z"
    }
   },
   "cell_type": "code",
   "source": [
    "SYSTEM_MSG3= (f\"You are a knowledgeable assistant who answers questions based on the provided data, \"\n",
    "              f\"If the user's question is out of scope for this dataset, you should only answer: Sorry, this question is out of scope.\"\n",
    "              f\"\\n\\nHere is the data:\\n{data_10}\")\n",
    "\n",
    "\n",
    "user_question = \"what is the Gonzalez Spur?\"\n",
    "response = generate_response(user_question, SYSTEM_MSG3)\n",
    "print(f\"question: {user_question}\\nLlama response: {response}\\n\")\n",
    "\n",
    "user_question = \"what is the Beyond the Sixth Seal?\"\n",
    "response = generate_response(user_question, SYSTEM_MSG3)\n",
    "print(f\"question: {user_question}\\nLlama response: {response}\\n\")\n",
    "\n",
    "user_question = \"what is the Knockgraffon?\"\n",
    "response = generate_response(user_question, SYSTEM_MSG3)\n",
    "print(f\"question: {user_question}\\nLlama response: {response}\\n\")\n",
    "\n",
    "user_question = \"who is Nicholas J. Sinnott?\"\n",
    "response = generate_response(user_question, SYSTEM_MSG3)\n",
    "print(f\"question: {user_question}\\nLlama response: {response}\\n\")\n",
    "\n",
    "user_question = \"where is the Redfish Lake?\"\n",
    "response = generate_response(user_question, SYSTEM_MSG3)\n",
    "print(f\"question: {user_question}\\nLlama response: {response}\\n\")"
   ],
   "id": "f3502adf9fb20b0b",
   "outputs": [
    {
     "name": "stdout",
     "output_type": "stream",
     "text": [
      "question: what is the Gonzalez Spur?\n",
      "Llama response: According to the provided data, the Gonzalez Spur is a prominent rock spur located in the Olympus Range of the McMurdo Dry Valleys, Antarctica. It is 2.5 nautical miles (5 km) long and extends east-southeast from the 1,700-meter (5,600 ft) high Goldich Crest.\n",
      "\n",
      "question: what is the Beyond the Sixth Seal?\n",
      "Llama response: Beyond the Sixth Seal is a side-project band of Mike McKenzie and Greg Weeks of The Red Chord. They were formed as a thrash metal band in the suburbs of Boston in 1998 and released a few demos.\n",
      "\n",
      "question: what is the Knockgraffon?\n",
      "Llama response: According to the provided data, Knockgraffon is a townland in County Tipperary, Ireland. It is also the name of a civil parish and a Roman Catholic ecclesiastical parish.\n",
      "\n",
      "question: who is Nicholas J. Sinnott?\n",
      "Llama response: Nicholas John Sinnott (December 6, 1870 – July 20, 1929) was an American lawyer and politician who served as a United States representative from Oregon from 1913 to 1928. He was later appointed by President Calvin Coolidge to be a Judge on the Court of Claims, serving from 1928 to 1929.\n",
      "\n",
      "question: where is the Redfish Lake?\n",
      "Llama response: Redfish Lake is located in Custer County, Idaho, just south of Stanley.\n",
      "\n"
     ]
    }
   ],
   "execution_count": 14
  }
 ],
 "metadata": {
  "kernelspec": {
   "display_name": "Python 3",
   "language": "python",
   "name": "python3"
  },
  "language_info": {
   "codemirror_mode": {
    "name": "ipython",
    "version": 2
   },
   "file_extension": ".py",
   "mimetype": "text/x-python",
   "name": "python",
   "nbconvert_exporter": "python",
   "pygments_lexer": "ipython2",
   "version": "2.7.6"
  }
 },
 "nbformat": 4,
 "nbformat_minor": 5
}
