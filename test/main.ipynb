{
 "nbformat": 4,
 "nbformat_minor": 0,
 "metadata": {
  "colab": {
   "private_outputs": true,
   "provenance": []
  },
  "kernelspec": {
   "name": "python3",
   "language": "python",
   "display_name": "Python 3 (ipykernel)"
  },
  "language_info": {
   "name": "python"
  }
 },
 "cells": [
  {
   "cell_type": "code",
   "metadata": {
    "id": "J_Et76yKtkHP",
    "ExecuteTime": {
     "end_time": "2024-06-29T01:00:32.357849Z",
     "start_time": "2024-06-29T01:00:31.685349Z"
    }
   },
   "source": [
    "# to install python packages at runtime use ! as prefix\n",
    "# !pip install rdflib\n",
    "# !pip install deep_translator\n",
    "\n",
    "from rdflib import BNode, URIRef, Literal, Graph, Namespace\n",
    "from rdflib.collection import Collection\n",
    "from rdflib.util import guess_format\n",
    "from rdflib.namespace import RDF, XSD, RDFS, OWL, SKOS, DCTERMS, NamespaceManager\n",
    "from rdflib.plugins.sparql import prepareQuery\n",
    "from typing import List\n",
    "from re import sub\n",
    "from deep_translator import GoogleTranslator\n",
    "# from googletrans import Translator\n",
    "import logging\n",
    "logger = logging.getLogger()\n",
    "logger.setLevel(logging.INFO)\n",
    "\n",
    "\n",
    "# Snake Chase - your_term\n",
    "def snake_case(s):\n",
    "  return '_'.join(\n",
    "    sub('([A-Z][a-z]+)', r' \\1',\n",
    "    sub('([A-Z]+)', r' \\1',\n",
    "    s.replace('-', ' '))).split()).lower()\n",
    "\n",
    "# Camel Chase - yourTerm\n",
    "def lower_camel_case(s):\n",
    "  #print(s)\n",
    "  s = sub(r\"(_|-)+\", \" \", s).title().replace(\" \", \"\")\n",
    "  return ''.join([s[0].lower(), s[1:]])\n",
    "\n",
    "# Pascal Chase -  YourTerm\n",
    "def upper_camel_case(s):\n",
    "  #print(s)\n",
    "  s = sub(r\"(_|-)+\", \" \", s).title().replace(\" \", \"\")\n",
    "  return s\n",
    "\n",
    "def strip_special_chars(s):\n",
    "    #return sub('[^A-Za-z0-9]+', ' ', s)\n",
    "    return sub('\\W+',' ', s )\n",
    "\n",
    "\n",
    "\n",
    "\n"
   ],
   "outputs": [],
   "execution_count": 1
  },
  {
   "cell_type": "code",
   "source": [
    "# Just some random test don't worry if you can not answer them all You might not be needing all of them during your project\n",
    "# add namespaces if needed \n",
    "bfo2020_url='http://purl.obolibrary.org/obo/bfo/2020/bfo.owl'\n",
    "BFO = Namespace(bfo2020_url+\"/\")\n",
    "OBO = Namespace('http://purl.obolibrary.org/obo/')\n"
   ],
   "metadata": {
    "id": "tguYQt500Ak5",
    "ExecuteTime": {
     "end_time": "2024-06-29T01:00:32.362431Z",
     "start_time": "2024-06-29T01:00:32.358358Z"
    }
   },
   "outputs": [],
   "execution_count": 2
  },
  {
   "cell_type": "code",
   "source": [
    "# load an ontology from the web\n",
    "g = Graph()\n",
    "g.parse(\"https://kupferdigital.gitlab.io/ontologies/kdo/ontology.ttl\")"
   ],
   "metadata": {
    "id": "LoAzwCWkutJJ",
    "ExecuteTime": {
     "end_time": "2024-06-29T01:00:33.339757Z",
     "start_time": "2024-06-29T01:00:32.363436Z"
    }
   },
   "outputs": [
    {
     "data": {
      "text/plain": [
       "<Graph identifier=Neb86cbfee7a4402da1bdbac356cf1abe (<class 'rdflib.graph.Graph'>)>"
      ]
     },
     "execution_count": 3,
     "metadata": {},
     "output_type": "execute_result"
    }
   ],
   "execution_count": 3
  },
  {
   "cell_type": "code",
   "source": [
    "# get all subclasses of an entity\n",
    "sub_classes = prepareQuery(\"SELECT ?entity WHERE {?entity rdfs:subClassOf* ?parent}\")\n",
    "def get_all_sub_classes(superclass: URIRef, ontology: Graph) -> List[URIRef]:\n",
    "    \"\"\"Gets all subclasses of a given class.\n",
    "\n",
    "    Args:\n",
    "        superclass (URIRef): Rdflib URIRef of the superclass\n",
    "\n",
    "    Returns:\n",
    "        List[URIRef]: List of all subclasses\n",
    "    \"\"\"\n",
    "    # parse template and add mapping results\n",
    "    results = list(\n",
    "        ontology.query(\n",
    "            sub_classes,\n",
    "            initBindings={\"parent\": superclass},\n",
    "            # initNs={'cco': CCO, 'mseo': MSEO},\n",
    "        ),\n",
    "    )\n",
    "    print(list(ontology[ : RDFS.subClassOf]))\n",
    "    classes = [result[0] for result in results]\n",
    "    logger.debug(\"Found following subclasses of {}: {}\".format(superclass, classes))\n",
    "    logger.debug(\"Found {} subclasses of {}\".format(len(classes),superclass))\n",
    "    return classes\n"
   ],
   "metadata": {
    "id": "oDpjDQX2usBl",
    "ExecuteTime": {
     "end_time": "2024-06-29T01:00:33.391009Z",
     "start_time": "2024-06-29T01:00:33.340748Z"
    }
   },
   "outputs": [],
   "execution_count": 4
  },
  {
   "cell_type": "code",
   "source": [
    "# simple query\n",
    "i=0\n",
    "for s,p,o in g.triples((None,None,None)):\n",
    "  print(s,p,o)\n",
    "  print(\"----------------------\")\n",
    "  i+=1\n",
    "  if i>20:\n",
    "    break\n"
   ],
   "metadata": {
    "id": "U10lH3IuwVb3",
    "ExecuteTime": {
     "end_time": "2024-06-29T01:00:33.395829Z",
     "start_time": "2024-06-29T01:00:33.391998Z"
    }
   },
   "outputs": [
    {
     "name": "stdout",
     "output_type": "stream",
     "text": [
      "https://kupferdigital.gitlab.io/ontologies/kdo/Annealing http://purl.obolibrary.org/obo/IAO_0000117 PERSON: Miriam Eisenbart\n",
      "----------------------\n",
      "https://kupferdigital.gitlab.io/ontologies/kdo/Strip http://www.w3.org/1999/02/22-rdf-syntax-ns#type http://www.w3.org/2002/07/owl#Class\n",
      "----------------------\n",
      "https://kupferdigital.gitlab.io/ontologies/kdo/SandCasting http://purl.obolibrary.org/obo/IAO_0000117 PERSON: Miriam Eisenbart\n",
      "----------------------\n",
      "https://kupferdigital.gitlab.io/ontologies/kdo/Shredding http://purl.obolibrary.org/obo/IAO_0000117 PERSON: Leon Steinmeier\n",
      "----------------------\n",
      "https://kupferdigital.gitlab.io/ontologies/kdo/Smelting http://purl.obolibrary.org/obo/IAO_0000117 PERSON: Leon Steinmeier\n",
      "----------------------\n",
      "https://kupferdigital.gitlab.io/ontologies/kdo/PureMetal http://purl.obolibrary.org/obo/IAO_0000117 PERSON: Miriam Eisenbart\n",
      "----------------------\n",
      "https://kupferdigital.gitlab.io/ontologies/kdo/Annealing http://purl.obolibrary.org/obo/IAO_0000114 http://purl.obolibrary.org/obo/IAO_0000124\n",
      "----------------------\n",
      "https://kupferdigital.gitlab.io/ontologies/kdo/SandCasting http://purl.obolibrary.org/obo/IAO_0000114 http://purl.obolibrary.org/obo/IAO_0000124\n",
      "----------------------\n",
      "https://kupferdigital.gitlab.io/ontologies/kdo/Tube http://www.w3.org/2000/01/rdf-schema#label Rohr\n",
      "----------------------\n",
      "https://kupferdigital.gitlab.io/ontologies/kdo/Alloy http://www.w3.org/2000/01/rdf-schema#label Legierung\n",
      "----------------------\n",
      "https://kupferdigital.gitlab.io/ontologies/kdo/CentrifugalCasting http://www.w3.org/2000/01/rdf-schema#label Schleuderguss\n",
      "----------------------\n",
      "https://kupferdigital.gitlab.io/ontologies/kdo/CastCopperAlloy http://purl.obolibrary.org/obo/IAO_0000117 PERSON: Miriam Eisenbart\n",
      "----------------------\n",
      "https://kupferdigital.gitlab.io/ontologies/kdo/Milling http://www.w3.org/2004/02/skos/core#definition Machining process in which, material is removed from the workpiece in the form of chips with the aid of a cutting tool.\n",
      "----------------------\n",
      "https://kupferdigital.gitlab.io/ontologies/kdo/ContinuousCasting http://www.w3.org/1999/02/22-rdf-syntax-ns#type http://www.w3.org/2002/07/owl#Class\n",
      "----------------------\n",
      "https://kupferdigital.gitlab.io/ontologies/kdo/CastCopperAlloy http://purl.obolibrary.org/obo/IAO_0000114 http://purl.obolibrary.org/obo/IAO_0000124\n",
      "----------------------\n",
      "https://kupferdigital.gitlab.io/ontologies/kdo/Ingot http://www.w3.org/2000/01/rdf-schema#subClassOf https://spec.industrialontologies.org/ontology/core/Core/MaterialArtifact\n",
      "----------------------\n",
      "https://kupferdigital.gitlab.io/ontologies/kdo/Microscopy http://www.w3.org/2000/01/rdf-schema#label Microscopy\n",
      "----------------------\n",
      "https://kupferdigital.gitlab.io/ontologies/kdo/IngotCopperAlloy http://www.w3.org/2000/01/rdf-schema#subClassOf https://kupferdigital.gitlab.io/ontologies/kdo/CopperAlloy\n",
      "----------------------\n",
      "https://kupferdigital.gitlab.io/ontologies/kdo/Standard http://www.w3.org/2000/01/rdf-schema#label Standard\n",
      "----------------------\n",
      "https://kupferdigital.gitlab.io/ontologies/kdo/Casting http://www.w3.org/2000/01/rdf-schema#subClassOf https://spec.industrialontologies.org/ontology/core/Core/ManufacturingProcess\n",
      "----------------------\n",
      "https://kupferdigital.gitlab.io/ontologies/kdo/Cutting http://purl.obolibrary.org/obo/IAO_0000117 PERSON: Leon Steinmeier\n",
      "----------------------\n"
     ]
    }
   ],
   "execution_count": 5
  },
  {
   "cell_type": "code",
   "source": [
    "# translate all labels with Google Translator\n",
    "\n",
    "all_labels = prepareQuery(\"SELECT ?entity ?label WHERE {?entity rdfs:label ?label}\")\n",
    "\n",
    "def translate_labels_google(g: Graph, language: str='de'):\n",
    "    translator=GoogleTranslator()\n",
    "    res=dict()\n",
    "    labels=g.query(all_labels)\n",
    "    for thing, label in labels:\n",
    "        if thing not in res.keys():\n",
    "            # print(thing)\n",
    "            res[thing]={}\n",
    "        res[thing][label.language]=label\n",
    "    i=0\n",
    "    for thing, labels in res.items():\n",
    "        if not all(lang in labels.keys() for lang in (\"en\",\"de\")):\n",
    "            #entitys with only one label\n",
    "            #print(thing,labels)\n",
    "            #translate and add triple\n",
    "            if labels.get('en',None):\n",
    "                label_de=Literal(translator.translate(labels['en']),lang=language)\n",
    "                logging.info('adding german label {} for entity {}'.format(label_de, thing))\n",
    "                g.add((thing,RDFS.label,label_de))\n",
    "                #add curation status - requires discussion\n",
    "                g.add((thing,OBO.IAO_0000114,OBO.IAO_0000428))\n",
    "                i+=1\n",
    "    logging.info(\"translated {} labels to [{}]\".format(i,language))\n",
    "    return g\n",
    "\n",
    "onto=translate_labels_google(g,language='de')\n",
    "onto\n"
   ],
   "metadata": {
    "id": "DI43BArMxG8p",
    "ExecuteTime": {
     "end_time": "2024-06-29T01:00:33.530324Z",
     "start_time": "2024-06-29T01:00:33.396817Z"
    }
   },
   "outputs": [
    {
     "name": "stderr",
     "output_type": "stream",
     "text": [
      "INFO:root:adding german label KupferDigital Copper Ontology for entity https://kupferdigital.gitlab.io/ontologies/kdo/\n",
      "INFO:root:translated 1 labels to [de]\n"
     ]
    },
    {
     "data": {
      "text/plain": [
       "<Graph identifier=Neb86cbfee7a4402da1bdbac356cf1abe (<class 'rdflib.graph.Graph'>)>"
      ]
     },
     "execution_count": 6,
     "metadata": {},
     "output_type": "execute_result"
    }
   ],
   "execution_count": 6
  },
  {
   "cell_type": "code",
   "source": [],
   "metadata": {
    "id": "GfMudrtwx5ZA",
    "ExecuteTime": {
     "end_time": "2024-06-29T01:00:33.533818Z",
     "start_time": "2024-06-29T01:00:33.531314Z"
    }
   },
   "outputs": [],
   "execution_count": 6
  }
 ]
}
