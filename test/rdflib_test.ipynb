{
 "cells": [
  {
   "cell_type": "code",
   "id": "initial_id",
   "metadata": {
    "collapsed": true,
    "ExecuteTime": {
     "end_time": "2024-06-29T01:20:49.019906Z",
     "start_time": "2024-06-29T01:20:49.011999Z"
    }
   },
   "source": [
    "from rdflib import BNode, URIRef, Literal, Graph, Namespace\n",
    "from rdflib.collection import Collection\n",
    "g = Graph()\n",
    "g.parse(\"graph.rdf\")\n",
    "for s, p, o in g:\n",
    "    print(s, p, o)\n",
    "print(g.serialize(format='turtle'))"
   ],
   "outputs": [
    {
     "name": "stdout",
     "output_type": "stream",
     "text": [
      "http://www.example.org/country3 http://www.example.org/located_in http://www.example.org/part2\n",
      "http://www.example.org/country2 http://www.example.org/located_in http://www.example.org/part1\n",
      "http://www.example.org/country1 http://www.example.org/located_in http://www.example.org/part1\n",
      "http://www.example.org/country4 http://www.example.org/located_in http://www.example.org/part2\n",
      "http://www.example.org/country1 http://www.example.org/has_border_with http://www.example.org/country2\n",
      "http://www.example.org/country3 http://www.example.org/has_border_with http://www.example.org/country4\n",
      "<class 'str'>\n"
     ]
    }
   ],
   "execution_count": 7
  },
  {
   "metadata": {},
   "cell_type": "code",
   "outputs": [],
   "execution_count": null,
   "source": "",
   "id": "d97077ffede5df87"
  }
 ],
 "metadata": {
  "kernelspec": {
   "display_name": "Python 3",
   "language": "python",
   "name": "python3"
  },
  "language_info": {
   "codemirror_mode": {
    "name": "ipython",
    "version": 2
   },
   "file_extension": ".py",
   "mimetype": "text/x-python",
   "name": "python",
   "nbconvert_exporter": "python",
   "pygments_lexer": "ipython2",
   "version": "2.7.6"
  }
 },
 "nbformat": 4,
 "nbformat_minor": 5
}
