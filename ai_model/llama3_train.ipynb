{
 "cells": [
  {
   "metadata": {},
   "cell_type": "markdown",
   "source": "# This is only for mac (ARM64)",
   "id": "c24e5813794da3ae"
  },
  {
   "metadata": {},
   "cell_type": "markdown",
   "source": "## Import llama3-8b",
   "id": "c4401bf39c8c38f7"
  },
  {
   "metadata": {
    "ExecuteTime": {
     "end_time": "2024-07-30T20:44:20.227569Z",
     "start_time": "2024-07-30T20:44:16.131592Z"
    }
   },
   "cell_type": "code",
   "source": [
    "from mlx_lm import load, generate\n",
    "model, tokenizer = load(\"mlx-community/Meta-Llama-3-8B-Instruct-4bit\")"
   ],
   "id": "fdf1c6dfd92a2b72",
   "outputs": [
    {
     "data": {
      "text/plain": [
       "Fetching 6 files:   0%|          | 0/6 [00:00<?, ?it/s]"
      ],
      "application/vnd.jupyter.widget-view+json": {
       "version_major": 2,
       "version_minor": 0,
       "model_id": "0110e8584bd2491aa79a7a06969f9f82"
      }
     },
     "metadata": {},
     "output_type": "display_data"
    }
   ],
   "execution_count": 1
  },
  {
   "metadata": {},
   "cell_type": "markdown",
   "source": "## Example",
   "id": "1bf755ad3514db8f"
  },
  {
   "metadata": {
    "ExecuteTime": {
     "end_time": "2024-07-30T20:44:21.870394Z",
     "start_time": "2024-07-30T20:44:20.229205Z"
    }
   },
   "cell_type": "code",
   "source": [
    "SYSTEM_MSG = (\"You are an assistant that detects entities and their relationships in questions, for example:\"\n",
    "              \"user question: where is china?\"\n",
    "              \"your answer: [(china)(located in)(?)]\"\n",
    "              \"user question: where is USA?\"\n",
    "              \"Your answer: [(USA)(located in)(?)]\"\n",
    "              \"user question: where is UK's capital?\"\n",
    "              \"your answer: [(UK's capital)(located in)(?)]\")\n",
    "\n",
    "def generate_entity_response(promptStr, maxTokens=100):\n",
    "    messages = [\n",
    "        {\"role\": \"system\", \"content\": SYSTEM_MSG},\n",
    "        {\"role\": \"user\", \"content\": promptStr},\n",
    "    ]\n",
    "    print(messages)\n",
    "    # 将消息应用于聊天模板并生成输入ID\n",
    "    input_ids = tokenizer.apply_chat_template(messages, add_generation_prompt=True)\n",
    "    prompt = tokenizer.decode(input_ids)\n",
    "\n",
    "    # 生成响应\n",
    "    response = generate(model, tokenizer, prompt=prompt, max_tokens=maxTokens)\n",
    "\n",
    "    return response\n",
    "\n",
    "\n",
    "# example\n",
    "user_question = \"Where is China?\"\n",
    "response = generate_entity_response(user_question)\n",
    "print(response)\n",
    "\n",
    "# other question\n",
    "user_question = \"where is japan's capital\"\n",
    "response = generate_entity_response(user_question)\n",
    "print(response)"
   ],
   "id": "1a85a172722400af",
   "outputs": [
    {
     "name": "stdout",
     "output_type": "stream",
     "text": [
      "[{'role': 'system', 'content': \"You are an assistant that detects entities and their relationships in questions, for example:user question: where is china?your answer: [(china)(located in)(?)]user question: where is USA?Your answer: [(USA)(located in)(?)]user question: where is UK's capital?your answer: [(UK's capital)(located in)(?)]\"}, {'role': 'user', 'content': 'Where is China?'}]\n",
      "[(China)(located in)(?)]\n",
      "[{'role': 'system', 'content': \"You are an assistant that detects entities and their relationships in questions, for example:user question: where is china?your answer: [(china)(located in)(?)]user question: where is USA?Your answer: [(USA)(located in)(?)]user question: where is UK's capital?your answer: [(UK's capital)(located in)(?)]\"}, {'role': 'user', 'content': \"where is japan's capital\"}]\n",
      "[(Japan's capital)(located in)(?)]\n"
     ]
    }
   ],
   "execution_count": 2
  },
  {
   "metadata": {},
   "cell_type": "markdown",
   "source": [
    "## Train a llama which can learn rdf\n",
    "#### first, initial database and get all rdf data"
   ],
   "id": "2c6907eda6c21390"
  },
  {
   "metadata": {},
   "cell_type": "code",
   "outputs": [],
   "execution_count": null,
   "source": [
    "from jena.fuseki_client import JenaClient\n",
    "from mongoDB.mongoDB_client import init_db, MongoDBInterface\n",
    "db, fs = init_db(\n",
    "    \"mongodb://localhost:27017\")\n",
    "db_interface = MongoDBInterface(db, fs)\n",
    "\n",
    "jena_client = JenaClient(jena_url='http://127.0.0.1:3030', dataset='test')  "
   ],
   "id": "83330e9b8db384fe"
  },
  {
   "metadata": {},
   "cell_type": "code",
   "outputs": [],
   "execution_count": null,
   "source": "",
   "id": "b3fa88087207cee"
  }
 ],
 "metadata": {
  "kernelspec": {
   "display_name": "Python 3",
   "language": "python",
   "name": "python3"
  },
  "language_info": {
   "codemirror_mode": {
    "name": "ipython",
    "version": 2
   },
   "file_extension": ".py",
   "mimetype": "text/x-python",
   "name": "python",
   "nbconvert_exporter": "python",
   "pygments_lexer": "ipython2",
   "version": "2.7.6"
  }
 },
 "nbformat": 4,
 "nbformat_minor": 5
}
